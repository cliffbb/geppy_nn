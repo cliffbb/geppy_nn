{
 "cells": [
  {
   "cell_type": "code",
   "execution_count": null,
   "metadata": {},
   "outputs": [],
   "source": [
    "%reload_ext autoreload\n",
    "%autoreload 2"
   ]
  },
  {
   "cell_type": "code",
   "execution_count": 1,
   "metadata": {
    "scrolled": true
   },
   "outputs": [
    {
     "name": "stdout",
     "output_type": "stream",
     "text": [
      "Great! Good to go!\n"
     ]
    }
   ],
   "source": [
    "from fastai.vision.all import *\n",
    "from fastai.callback.tracker import SaveModelCallback\n",
    "\n",
    "from gepcore.utils import convolution, cell_graph\n",
    "from gepcore.entity import Gene, Chromosome\n",
    "from gepcore.symbol import PrimitiveSet\n",
    "from nas_seg.seg_model import *\n",
    "from nas_seg.utils import get_mask, overall_acc\n",
    "from nas_seg.isprs_dataset import img_to_mask, mask_to_img\n",
    "from gepnet.utils import count_parameters\n",
    "\n",
    "from pygraphviz import AGraph\n",
    "import glob\n",
    "from skimage import io\n",
    "from sklearn.metrics import confusion_matrix\n",
    "\n",
    "torch.backends.cudnn.benchmark = True\n",
    "\n",
    "if torch.cuda.is_available():\n",
    "  print(\"Great! Good to go!\")\n",
    "else:\n",
    "  print('CUDA is not up!')"
   ]
  },
  {
   "cell_type": "code",
   "execution_count": 10,
   "metadata": {
    "scrolled": true
   },
   "outputs": [
    {
     "name": "stdout",
     "output_type": "stream",
     "text": [
      "38.781048\n"
     ]
    }
   ],
   "source": [
    "labels = np.array([\"imp. surf.\", \"buildings\", \"low veg.\", \"trees\", \"cars\", \"clutter\"])\n",
    "num_classes = len(labels) \n",
    "\n",
    "# define primitive set\n",
    "pset = PrimitiveSet('cnn')\n",
    "# add cellular encoding program symbols\n",
    "pset.add_program_symbol(cell_graph.end)\n",
    "pset.add_program_symbol(cell_graph.seq)\n",
    "pset.add_program_symbol(cell_graph.cpo)\n",
    "pset.add_program_symbol(cell_graph.cpi)\n",
    "\n",
    "# add convolutional operations symbols\n",
    "conv_symbol = convolution.get_symbol()\n",
    "pset.add_cell_symbol(conv_symbol.sepconv3x3)\n",
    "pset.add_cell_symbol(conv_symbol.sepconv5x5)\n",
    "pset.add_cell_symbol(conv_symbol.dilconv3x3)\n",
    "pset.add_cell_symbol(conv_symbol.dilconv5x5)\n",
    "pset.add_cell_symbol(conv_symbol.maxpool3x3)\n",
    "pset.add_cell_symbol(conv_symbol.avgpool3x3)\n",
    "\n",
    "def gene_gen():\n",
    "    return Gene(pset, 2)\n",
    "\n",
    "ch = Chromosome(gene_gen, 4)\n",
    "graph, comp_graphs = cell_graph.generate_comp_graph(ch)\n",
    "\n",
    "cell_graph.save_graph(graph, 'nas_seg/comp_graphs/')\n",
    "cell_graph.draw_graph(graph, 'nas_seg/comp_graphs/')\n",
    "\n",
    "conf = arch_config(comp_graphs=comp_graphs,\n",
    "                   channels=24,\n",
    "                   input_size=256,\n",
    "                   classes=num_classes)\n",
    "\n",
    "net = Network(conf)\n",
    "print(count_parameters(net))"
   ]
  },
  {
   "cell_type": "code",
   "execution_count": null,
   "metadata": {},
   "outputs": [],
   "source": [
    "# net"
   ]
  },
  {
   "cell_type": "code",
   "execution_count": 11,
   "metadata": {},
   "outputs": [
    {
     "name": "stdout",
     "output_type": "stream",
     "text": [
      "38.781048\n"
     ]
    }
   ],
   "source": [
    "labels = np.array([\"imp. surf.\", \"buildings\", \"low veg.\", \"trees\", \"cars\", \"clutter\"])\n",
    "num_classes = len(labels) \n",
    "\n",
    "graph = [AGraph(g) for g in glob.glob('nas_seg/comp_graphs/*.dot')]\n",
    "_, comp_graphs = cell_graph.generate_comp_graph(graph)\n",
    "\n",
    "conf = arch_config(comp_graphs=comp_graphs, channels=24, classes=len(labels), input_size=128)\n",
    "\n",
    "# net = get_net(conf)\n",
    "net = Network(conf)\n",
    "print(count_parameters(net))"
   ]
  },
  {
   "cell_type": "code",
   "execution_count": 12,
   "metadata": {},
   "outputs": [],
   "source": [
    "# dataset path\n",
    "window_size = 128\n",
    "\n",
    "dataset = 'Vaihingen' #'Potsdam'\n",
    "if dataset == 'Potsdam':\n",
    "    dataset_dir = Path.home()/'rs_imagery/ISPRS_DATASETS/{}'.format(dataset)\n",
    "    trainset_dir = dataset.lower() + '_{}'.format(window_size) \n",
    "elif dataset == 'Vaihingen':\n",
    "    dataset_dir = Path.home()/'rs_imagery/ISPRS_DATASETS/{}'.format(dataset)\n",
    "    trainset_dir = dataset.lower() + '_{}'.format(window_size) \n",
    "\n",
    "# training set path\n",
    "data_path = dataset_dir/'{}'.format(trainset_dir)\n",
    "img_path = data_path/'images/train'\n",
    "\n",
    "# img_dir = get_image_files(img_path)\n",
    "# img = img_dir[9]\n",
    "# msk = get_mask(img)\n",
    "# msk = PILImage.create(mask_to_img(io.imread(msk)))\n",
    "# img = PILImage.create(io.imread(img))\n",
    "\n",
    "# img.show(), msk.show()"
   ]
  },
  {
   "cell_type": "code",
   "execution_count": 13,
   "metadata": {},
   "outputs": [],
   "source": [
    "#[0.4769, 0.3227, 0.3191], [0.1967, 0.1358, 0.1300] -- 256\n",
    "#[0.4776, 0.3226, 0.3189], [0.1816, 0.1224, 0.1185] -- 128\n",
    "\n",
    "data = DataBlock(blocks=(ImageBlock, MaskBlock(codes=labels)),\n",
    "    get_items=get_image_files,\n",
    "    get_y=get_mask,\n",
    "    splitter=RandomSplitter(seed=42),\n",
    "    batch_tfms=[*aug_transforms(flip_vert=True, size=window_size), \n",
    "                Normalize.from_stats([0.4776, 0.3226, 0.3189], [0.1816, 0.1224, 0.1185])])\n",
    "\n",
    "dls = data.dataloaders(img_path, bs=10)"
   ]
  },
  {
   "cell_type": "code",
   "execution_count": 14,
   "metadata": {},
   "outputs": [],
   "source": [
    "weights = weight=torch.tensor([0.007, 0.008, 0.02, 0.02, 0.2, 1.0]).cuda()  # Weights for class balancing\n",
    "loss_func = CrossEntropyLossFlat(weight=weights, axis=1)    # [0.001, 0.0009, 0.002, 0.002, 0.03, 1.0]    \n",
    "save_best = SaveModelCallback(monitor='overall_acc')\n",
    "\n",
    "learn = Learner(dls, net, wd=1e-4, metrics=overall_acc, model_dir=dataset_dir, cbs=save_best)\n",
    "# learn.lr_find()"
   ]
  },
  {
   "cell_type": "code",
   "execution_count": null,
   "metadata": {
    "scrolled": true
   },
   "outputs": [
    {
     "data": {
      "text/html": [
       "\n",
       "    <div>\n",
       "        <style>\n",
       "            /* Turns off some styling */\n",
       "            progress {\n",
       "                /* gets rid of default border in Firefox and Opera. */\n",
       "                border: none;\n",
       "                /* Needs to be in here for Safari polyfill so background images work as expected. */\n",
       "                background-size: auto;\n",
       "            }\n",
       "            .progress-bar-interrupted, .progress-bar-interrupted::-webkit-progress-bar {\n",
       "                background: #F44336;\n",
       "            }\n",
       "        </style>\n",
       "      <progress value='31' class='' max='100' style='width:300px; height:20px; vertical-align: middle;'></progress>\n",
       "      31.00% [31/100 9:22:07<20:51:10]\n",
       "    </div>\n",
       "    \n",
       "<table border=\"1\" class=\"dataframe\">\n",
       "  <thead>\n",
       "    <tr style=\"text-align: left;\">\n",
       "      <th>epoch</th>\n",
       "      <th>train_loss</th>\n",
       "      <th>valid_loss</th>\n",
       "      <th>overall_acc</th>\n",
       "      <th>time</th>\n",
       "    </tr>\n",
       "  </thead>\n",
       "  <tbody>\n",
       "    <tr>\n",
       "      <td>0</td>\n",
       "      <td>0.588024</td>\n",
       "      <td>0.577917</td>\n",
       "      <td>0.778113</td>\n",
       "      <td>18:48</td>\n",
       "    </tr>\n",
       "    <tr>\n",
       "      <td>1</td>\n",
       "      <td>0.543995</td>\n",
       "      <td>0.477555</td>\n",
       "      <td>0.811205</td>\n",
       "      <td>17:57</td>\n",
       "    </tr>\n",
       "    <tr>\n",
       "      <td>2</td>\n",
       "      <td>0.494655</td>\n",
       "      <td>0.461912</td>\n",
       "      <td>0.821404</td>\n",
       "      <td>17:56</td>\n",
       "    </tr>\n",
       "    <tr>\n",
       "      <td>3</td>\n",
       "      <td>0.450545</td>\n",
       "      <td>0.447786</td>\n",
       "      <td>0.822641</td>\n",
       "      <td>17:55</td>\n",
       "    </tr>\n",
       "    <tr>\n",
       "      <td>4</td>\n",
       "      <td>0.442649</td>\n",
       "      <td>0.395611</td>\n",
       "      <td>0.844640</td>\n",
       "      <td>17:54</td>\n",
       "    </tr>\n",
       "    <tr>\n",
       "      <td>5</td>\n",
       "      <td>0.429131</td>\n",
       "      <td>0.384202</td>\n",
       "      <td>0.850424</td>\n",
       "      <td>17:39</td>\n",
       "    </tr>\n",
       "    <tr>\n",
       "      <td>6</td>\n",
       "      <td>0.401170</td>\n",
       "      <td>0.351077</td>\n",
       "      <td>0.862934</td>\n",
       "      <td>17:35</td>\n",
       "    </tr>\n",
       "    <tr>\n",
       "      <td>7</td>\n",
       "      <td>0.391954</td>\n",
       "      <td>0.366566</td>\n",
       "      <td>0.856157</td>\n",
       "      <td>17:38</td>\n",
       "    </tr>\n",
       "    <tr>\n",
       "      <td>8</td>\n",
       "      <td>0.380354</td>\n",
       "      <td>0.335066</td>\n",
       "      <td>0.867553</td>\n",
       "      <td>17:38</td>\n",
       "    </tr>\n",
       "    <tr>\n",
       "      <td>9</td>\n",
       "      <td>0.349947</td>\n",
       "      <td>0.323866</td>\n",
       "      <td>0.871996</td>\n",
       "      <td>17:37</td>\n",
       "    </tr>\n",
       "    <tr>\n",
       "      <td>10</td>\n",
       "      <td>0.340938</td>\n",
       "      <td>0.315518</td>\n",
       "      <td>0.875338</td>\n",
       "      <td>17:35</td>\n",
       "    </tr>\n",
       "    <tr>\n",
       "      <td>11</td>\n",
       "      <td>0.355764</td>\n",
       "      <td>0.311668</td>\n",
       "      <td>0.877877</td>\n",
       "      <td>17:32</td>\n",
       "    </tr>\n",
       "    <tr>\n",
       "      <td>12</td>\n",
       "      <td>0.328253</td>\n",
       "      <td>0.301573</td>\n",
       "      <td>0.878917</td>\n",
       "      <td>17:31</td>\n",
       "    </tr>\n",
       "    <tr>\n",
       "      <td>13</td>\n",
       "      <td>0.325191</td>\n",
       "      <td>0.323012</td>\n",
       "      <td>0.872565</td>\n",
       "      <td>17:35</td>\n",
       "    </tr>\n",
       "    <tr>\n",
       "      <td>14</td>\n",
       "      <td>0.313724</td>\n",
       "      <td>0.284834</td>\n",
       "      <td>0.888143</td>\n",
       "      <td>17:35</td>\n",
       "    </tr>\n",
       "    <tr>\n",
       "      <td>15</td>\n",
       "      <td>0.316969</td>\n",
       "      <td>0.287447</td>\n",
       "      <td>0.887586</td>\n",
       "      <td>17:35</td>\n",
       "    </tr>\n",
       "    <tr>\n",
       "      <td>16</td>\n",
       "      <td>0.288884</td>\n",
       "      <td>0.279913</td>\n",
       "      <td>0.890290</td>\n",
       "      <td>17:38</td>\n",
       "    </tr>\n",
       "    <tr>\n",
       "      <td>17</td>\n",
       "      <td>0.285232</td>\n",
       "      <td>0.264079</td>\n",
       "      <td>0.896313</td>\n",
       "      <td>17:40</td>\n",
       "    </tr>\n",
       "    <tr>\n",
       "      <td>18</td>\n",
       "      <td>0.291210</td>\n",
       "      <td>0.270961</td>\n",
       "      <td>0.893347</td>\n",
       "      <td>17:59</td>\n",
       "    </tr>\n",
       "    <tr>\n",
       "      <td>19</td>\n",
       "      <td>0.275638</td>\n",
       "      <td>0.251021</td>\n",
       "      <td>0.901390</td>\n",
       "      <td>18:05</td>\n",
       "    </tr>\n",
       "    <tr>\n",
       "      <td>20</td>\n",
       "      <td>0.270135</td>\n",
       "      <td>0.245751</td>\n",
       "      <td>0.903652</td>\n",
       "      <td>18:05</td>\n",
       "    </tr>\n",
       "    <tr>\n",
       "      <td>21</td>\n",
       "      <td>0.254329</td>\n",
       "      <td>0.238656</td>\n",
       "      <td>0.906066</td>\n",
       "      <td>17:56</td>\n",
       "    </tr>\n",
       "    <tr>\n",
       "      <td>22</td>\n",
       "      <td>0.252719</td>\n",
       "      <td>0.229362</td>\n",
       "      <td>0.909927</td>\n",
       "      <td>17:52</td>\n",
       "    </tr>\n",
       "    <tr>\n",
       "      <td>23</td>\n",
       "      <td>0.243684</td>\n",
       "      <td>0.220218</td>\n",
       "      <td>0.912758</td>\n",
       "      <td>17:40</td>\n",
       "    </tr>\n",
       "    <tr>\n",
       "      <td>24</td>\n",
       "      <td>0.245918</td>\n",
       "      <td>0.225771</td>\n",
       "      <td>0.910961</td>\n",
       "      <td>19:19</td>\n",
       "    </tr>\n",
       "    <tr>\n",
       "      <td>25</td>\n",
       "      <td>0.223486</td>\n",
       "      <td>0.216145</td>\n",
       "      <td>0.914358</td>\n",
       "      <td>20:14</td>\n",
       "    </tr>\n",
       "    <tr>\n",
       "      <td>26</td>\n",
       "      <td>0.213881</td>\n",
       "      <td>0.207072</td>\n",
       "      <td>0.920174</td>\n",
       "      <td>18:48</td>\n",
       "    </tr>\n",
       "    <tr>\n",
       "      <td>27</td>\n",
       "      <td>0.233886</td>\n",
       "      <td>0.206542</td>\n",
       "      <td>0.919390</td>\n",
       "      <td>20:20</td>\n",
       "    </tr>\n",
       "    <tr>\n",
       "      <td>28</td>\n",
       "      <td>0.214355</td>\n",
       "      <td>0.190732</td>\n",
       "      <td>0.924539</td>\n",
       "      <td>18:59</td>\n",
       "    </tr>\n",
       "    <tr>\n",
       "      <td>29</td>\n",
       "      <td>0.202152</td>\n",
       "      <td>0.202133</td>\n",
       "      <td>0.920901</td>\n",
       "      <td>18:33</td>\n",
       "    </tr>\n",
       "    <tr>\n",
       "      <td>30</td>\n",
       "      <td>0.193426</td>\n",
       "      <td>0.190042</td>\n",
       "      <td>0.925215</td>\n",
       "      <td>18:15</td>\n",
       "    </tr>\n",
       "  </tbody>\n",
       "</table><p>\n",
       "\n",
       "    <div>\n",
       "        <style>\n",
       "            /* Turns off some styling */\n",
       "            progress {\n",
       "                /* gets rid of default border in Firefox and Opera. */\n",
       "                border: none;\n",
       "                /* Needs to be in here for Safari polyfill so background images work as expected. */\n",
       "                background-size: auto;\n",
       "            }\n",
       "            .progress-bar-interrupted, .progress-bar-interrupted::-webkit-progress-bar {\n",
       "                background: #F44336;\n",
       "            }\n",
       "        </style>\n",
       "      <progress value='3865' class='' max='5547' style='width:300px; height:20px; vertical-align: middle;'></progress>\n",
       "      69.68% [3865/5547 11:48<05:08 0.1924]\n",
       "    </div>\n",
       "    "
      ],
      "text/plain": [
       "<IPython.core.display.HTML object>"
      ]
     },
     "metadata": {},
     "output_type": "display_data"
    },
    {
     "name": "stdout",
     "output_type": "stream",
     "text": [
      "Better model found at epoch 0 with overall_acc value: 0.7781131863594055.\n",
      "Better model found at epoch 1 with overall_acc value: 0.8112048506736755.\n",
      "Better model found at epoch 2 with overall_acc value: 0.8214043974876404.\n",
      "Better model found at epoch 3 with overall_acc value: 0.8226408362388611.\n",
      "Better model found at epoch 4 with overall_acc value: 0.8446400761604309.\n",
      "Better model found at epoch 5 with overall_acc value: 0.8504236340522766.\n",
      "Better model found at epoch 6 with overall_acc value: 0.8629338145256042.\n",
      "Better model found at epoch 8 with overall_acc value: 0.8675534725189209.\n",
      "Better model found at epoch 9 with overall_acc value: 0.8719964623451233.\n",
      "Better model found at epoch 10 with overall_acc value: 0.8753377199172974.\n",
      "Better model found at epoch 11 with overall_acc value: 0.8778769969940186.\n",
      "Better model found at epoch 12 with overall_acc value: 0.8789169788360596.\n",
      "Better model found at epoch 14 with overall_acc value: 0.8881429433822632.\n",
      "Better model found at epoch 16 with overall_acc value: 0.8902899026870728.\n",
      "Better model found at epoch 17 with overall_acc value: 0.8963134288787842.\n",
      "Better model found at epoch 19 with overall_acc value: 0.9013901948928833.\n",
      "Better model found at epoch 20 with overall_acc value: 0.9036521315574646.\n",
      "Better model found at epoch 21 with overall_acc value: 0.9060658812522888.\n",
      "Better model found at epoch 22 with overall_acc value: 0.909927487373352.\n",
      "Better model found at epoch 23 with overall_acc value: 0.9127578139305115.\n",
      "Better model found at epoch 25 with overall_acc value: 0.9143579006195068.\n",
      "Better model found at epoch 26 with overall_acc value: 0.920173704624176.\n",
      "Better model found at epoch 28 with overall_acc value: 0.924538791179657.\n",
      "Better model found at epoch 30 with overall_acc value: 0.9252148270606995.\n"
     ]
    }
   ],
   "source": [
    "# learn.fit_flat_cos(20, 1e-3)\n",
    "learn.fit_one_cycle(100, 1e-3)"
   ]
  },
  {
   "cell_type": "code",
   "execution_count": null,
   "metadata": {
    "scrolled": true
   },
   "outputs": [],
   "source": [
    "learn.export('nas_seg/model.pkl')"
   ]
  },
  {
   "cell_type": "code",
   "execution_count": null,
   "metadata": {},
   "outputs": [],
   "source": [
    "learn.show_results(alpha=1)"
   ]
  },
  {
   "cell_type": "code",
   "execution_count": null,
   "metadata": {},
   "outputs": [],
   "source": [
    "############## Testing ###################"
   ]
  },
  {
   "cell_type": "code",
   "execution_count": null,
   "metadata": {},
   "outputs": [],
   "source": [
    "graph = [AGraph(g) for g in glob.glob('nas_seg/comp_graphs/*.dot')]\n",
    "_, comp_graphs = cell_graph.generate_comp_graph(graph)\n",
    "\n",
    "conf = arch_config(comp_graphs=comp_graphs,\n",
    "                   channels=32,\n",
    "                   input_size=256,\n",
    "                   classes=num_classes)\n",
    "\n",
    "# net = get_net(conf)\n",
    "net = Network(conf)\n",
    "print(count_parameters(net))\n",
    "# net"
   ]
  },
  {
   "cell_type": "code",
   "execution_count": null,
   "metadata": {},
   "outputs": [],
   "source": [
    "# testing set path\n",
    "data_path = dataset_dir/'{}'.format(trainset_dir)\n",
    "img_path = data_path/'images/'\n",
    "\n",
    "def get_mask(x: Path):\n",
    "    dset = x.parent.name\n",
    "    path = x.parent.parent.parent/'masks'/dset\n",
    "    name = x.name\n",
    "    return (path/name)\n",
    "\n",
    "# img_dir = get_image_files(img_path/'valid')\n",
    "# img = img_dir[100]\n",
    "# msk = get_mask(img)\n",
    "# msk1 = PILImage.create(mask_to_img(io.imread(msk)))\n",
    "# img = PILImage.create(io.imread(img))\n",
    "\n",
    "# img.show(), msk.show()"
   ]
  },
  {
   "cell_type": "code",
   "execution_count": null,
   "metadata": {},
   "outputs": [],
   "source": [
    "def _parent_idxs(items, name):\n",
    "    def _inner(items, name): return mask2idxs(Path(o).parent.name == name for o in items)\n",
    "    return [i for n in L(name) for i in _inner(items,n)]\n",
    "\n",
    "def parent_splitter(train_name='train', valid_name='valid'):\n",
    "    \"Split `items` from the grand parent folder names (`train_name` and `valid_name`).\"\n",
    "    def _inner(o, **kwargs):\n",
    "        return _parent_idxs(o, train_name), _parent_idxs(o, valid_name)\n",
    "    return _inner"
   ]
  },
  {
   "cell_type": "code",
   "execution_count": null,
   "metadata": {},
   "outputs": [],
   "source": [
    "data = DataBlock(blocks=(ImageBlock, MaskBlock(codes=labels)),\n",
    "                 get_items=get_image_files,\n",
    "                 get_y=get_mask,\n",
    "                 splitter=parent_splitter(),\n",
    "                 batch_tfms=[*aug_transforms(do_flip=False, size=window_size), \n",
    "                             Normalize.from_stats([0.4769, 0.3227, 0.3191], [0.1967, 0.1358, 0.1300])])\n",
    "\n",
    "dls_ = data.dataloaders(img_path, bs=20)"
   ]
  },
  {
   "cell_type": "code",
   "execution_count": null,
   "metadata": {},
   "outputs": [],
   "source": [
    "model = Learner(dls_, net, wd=1e-4, metrics=overall_acc, model_dir=dataset_dir).load('model')\n",
    "model.validate()"
   ]
  },
  {
   "cell_type": "code",
   "execution_count": null,
   "metadata": {},
   "outputs": [],
   "source": []
  },
  {
   "cell_type": "code",
   "execution_count": null,
   "metadata": {},
   "outputs": [],
   "source": [
    "# model = load_learner('nas_seg/model.pkl', cpu=False)\n",
    "# count_parameters(model.model)"
   ]
  },
  {
   "cell_type": "code",
   "execution_count": null,
   "metadata": {},
   "outputs": [],
   "source": [
    "# model.metrics= overall_acc\n",
    "# model.dls = dls_"
   ]
  },
  {
   "cell_type": "code",
   "execution_count": null,
   "metadata": {},
   "outputs": [],
   "source": [
    "# preds, y = model.get_preds()"
   ]
  },
  {
   "cell_type": "code",
   "execution_count": null,
   "metadata": {},
   "outputs": [],
   "source": [
    "# overall_acc(preds,y)"
   ]
  },
  {
   "cell_type": "code",
   "execution_count": null,
   "metadata": {},
   "outputs": [],
   "source": [
    "# model.show_results()"
   ]
  },
  {
   "cell_type": "code",
   "execution_count": null,
   "metadata": {},
   "outputs": [],
   "source": []
  },
  {
   "cell_type": "code",
   "execution_count": null,
   "metadata": {},
   "outputs": [],
   "source": []
  },
  {
   "cell_type": "code",
   "execution_count": null,
   "metadata": {},
   "outputs": [],
   "source": []
  },
  {
   "cell_type": "code",
   "execution_count": null,
   "metadata": {},
   "outputs": [],
   "source": []
  },
  {
   "cell_type": "code",
   "execution_count": null,
   "metadata": {},
   "outputs": [],
   "source": []
  },
  {
   "cell_type": "code",
   "execution_count": null,
   "metadata": {},
   "outputs": [],
   "source": []
  }
 ],
 "metadata": {
  "kernelspec": {
   "display_name": "Python 3",
   "language": "python",
   "name": "python3"
  },
  "language_info": {
   "codemirror_mode": {
    "name": "ipython",
    "version": 3
   },
   "file_extension": ".py",
   "mimetype": "text/x-python",
   "name": "python",
   "nbconvert_exporter": "python",
   "pygments_lexer": "ipython3",
   "version": "3.8.2"
  }
 },
 "nbformat": 4,
 "nbformat_minor": 2
}
