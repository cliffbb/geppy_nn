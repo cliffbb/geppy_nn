{
 "cells": [
  {
   "cell_type": "code",
   "execution_count": 1,
   "metadata": {},
   "outputs": [],
   "source": [
    "# import\n",
    "from fastai.vision.all import * #get_image_files, open_image, open_mask, plt, Path\n",
    "from nas_seg.isprs_dataset import create_trainset, mask_to_img, img_to_mask\n",
    "from skimage import io\n",
    "from skimage.util import img_as_ubyte\n",
    "import warnings, os\n",
    "# filter warnings for low contrast images\n",
    "warnings.filterwarnings('ignore')"
   ]
  },
  {
   "cell_type": "code",
   "execution_count": 2,
   "metadata": {},
   "outputs": [],
   "source": [
    "# dataset parameters\n",
    "window_size = (256, 256)\n",
    "step_size = 128\n",
    "\n",
    "dataset = 'Vaihingen'\n",
    "dataset_dir = Path.home()/'rs_imagery/ISPRS_DATASETS/{}'.format(dataset)\n",
    "\n",
    "if dataset == 'Potsdam':\n",
    "    img_files = dataset_dir/'Ortho_IRRG/top_potsdam_{}_{}_IRRG.tif'\n",
    "    msk_files = dataset_dir/'Labels_for_participants/top_potsdam_{}_{}_label.tif'\n",
    "    e_msk_files = dataset_dir/'Labels_for_participants_no_Boundary/top_potsdam_{}_{}_label_noBoundary.tif'\n",
    "    train_ids = [(2, 10), (3, 10), (3, 11), (3, 12), (4, 11), (4, 12), (5, 10), (5, 12), (6, 8),\n",
    "                 (6, 9), (6, 10), (6, 11), (6, 12), (7, 7), (7, 9), (7, 11), (7, 12)] \n",
    "    test_ids = [(2, 11), (2, 12), (4, 10), (5, 11), (6, 7), (7, 8), (7, 10)]\n",
    "elif dataset == 'Vaihingen':\n",
    "    img_files = dataset_dir/'top/top_mosaic_09cm_area{}.tif'\n",
    "    msk_files = dataset_dir/'gts_for_participants/top_mosaic_09cm_area{}.tif'\n",
    "    e_msk_files = dataset_dir/'gts_eroded_for_participants/top_mosaic_09cm_area{}_noBoundary.tif'\n",
    "    #train_ids = [(1,), (5,), (7,), (13,), (17,), (23,), (26,), (32,), (37,)]\n",
    "    #val_ids = [(3,), (21,)]\n",
    "    #test_ids = [(11,), (15,), (28,), (30,), (34,)]\n",
    "    \n",
    "    train_ids = [(15,), (21,), (1,), (3,), (11,), (13,), (17,), (26,), (28,), (32,), (34,), (37,)]\n",
    "    #val_ids = [(15,), (21,)]\n",
    "    test_ids = [(5,), (7,), (23,), (30,)]\n",
    "\n",
    "\n",
    "# destination directory\n",
    "dst_dir = str(dataset_dir/dataset.lower())+'_{}/'.format(window_size[0])\n",
    "# dst_dir2 = str(dataset_dir/dataset.lower())+'_png_format/'"
   ]
  },
  {
   "cell_type": "code",
   "execution_count": 3,
   "metadata": {
    "scrolled": false
   },
   "outputs": [
    {
     "name": "stderr",
     "output_type": "stream",
     "text": [
      "\r",
      "  0%|          | 0/12 [00:00<?, ?it/s]"
     ]
    },
    {
     "name": "stdout",
     "output_type": "stream",
     "text": [
      "Extracting image patches from Tile 15...\n",
      "Extracting mask patches from Tile 15...\n",
      "Saving image patches of Tile 15...\n",
      "Saving mask patches of Tile 15...\n"
     ]
    },
    {
     "name": "stderr",
     "output_type": "stream",
     "text": [
      "\r",
      "  8%|▊         | 1/12 [00:53<09:49, 53.63s/it]"
     ]
    },
    {
     "name": "stdout",
     "output_type": "stream",
     "text": [
      "Extracting image patches from Tile 21...\n",
      "Extracting mask patches from Tile 21...\n",
      "Saving image patches of Tile 21...\n",
      "Saving mask patches of Tile 21...\n"
     ]
    },
    {
     "name": "stderr",
     "output_type": "stream",
     "text": [
      "\r",
      " 17%|█▋        | 2/12 [01:52<09:25, 56.59s/it]"
     ]
    },
    {
     "name": "stdout",
     "output_type": "stream",
     "text": [
      "Extracting image patches from Tile 1...\n",
      "Extracting mask patches from Tile 1...\n",
      "Saving image patches of Tile 1...\n",
      "Saving mask patches of Tile 1...\n"
     ]
    },
    {
     "name": "stderr",
     "output_type": "stream",
     "text": [
      "\r",
      " 25%|██▌       | 3/12 [03:23<10:51, 72.36s/it]"
     ]
    },
    {
     "name": "stdout",
     "output_type": "stream",
     "text": [
      "Extracting image patches from Tile 3...\n",
      "Extracting mask patches from Tile 3...\n",
      "Saving image patches of Tile 3...\n",
      "Saving mask patches of Tile 3...\n"
     ]
    },
    {
     "name": "stderr",
     "output_type": "stream",
     "text": [
      "\r",
      " 33%|███▎      | 4/12 [05:19<11:55, 89.44s/it]"
     ]
    },
    {
     "name": "stdout",
     "output_type": "stream",
     "text": [
      "Extracting image patches from Tile 11...\n",
      "Extracting mask patches from Tile 11...\n",
      "Saving image patches of Tile 11...\n",
      "Saving mask patches of Tile 11...\n"
     ]
    },
    {
     "name": "stderr",
     "output_type": "stream",
     "text": [
      "\r",
      " 42%|████▏     | 5/12 [06:24<09:24, 80.66s/it]"
     ]
    },
    {
     "name": "stdout",
     "output_type": "stream",
     "text": [
      "Extracting image patches from Tile 13...\n",
      "Extracting mask patches from Tile 13...\n",
      "Saving image patches of Tile 13...\n",
      "Saving mask patches of Tile 13...\n"
     ]
    },
    {
     "name": "stderr",
     "output_type": "stream",
     "text": [
      "\r",
      " 50%|█████     | 6/12 [07:47<08:09, 81.59s/it]"
     ]
    },
    {
     "name": "stdout",
     "output_type": "stream",
     "text": [
      "Extracting image patches from Tile 17...\n",
      "Extracting mask patches from Tile 17...\n",
      "Saving image patches of Tile 17...\n",
      "Saving mask patches of Tile 17...\n"
     ]
    },
    {
     "name": "stderr",
     "output_type": "stream",
     "text": [
      "\r",
      " 58%|█████▊    | 7/12 [08:18<05:24, 64.97s/it]"
     ]
    },
    {
     "name": "stdout",
     "output_type": "stream",
     "text": [
      "Extracting image patches from Tile 26...\n",
      "Extracting mask patches from Tile 26...\n",
      "Saving image patches of Tile 26...\n",
      "Saving mask patches of Tile 26...\n"
     ]
    },
    {
     "name": "stderr",
     "output_type": "stream",
     "text": [
      "\r",
      " 67%|██████▋   | 8/12 [10:14<05:25, 81.26s/it]"
     ]
    },
    {
     "name": "stdout",
     "output_type": "stream",
     "text": [
      "Extracting image patches from Tile 28...\n",
      "Extracting mask patches from Tile 28...\n",
      "Saving image patches of Tile 28...\n",
      "Saving mask patches of Tile 28...\n"
     ]
    },
    {
     "name": "stderr",
     "output_type": "stream",
     "text": [
      "\r",
      " 75%|███████▌  | 9/12 [11:32<04:00, 80.13s/it]"
     ]
    },
    {
     "name": "stdout",
     "output_type": "stream",
     "text": [
      "Extracting image patches from Tile 32...\n",
      "Extracting mask patches from Tile 32...\n",
      "Saving image patches of Tile 32...\n",
      "Saving mask patches of Tile 32...\n"
     ]
    },
    {
     "name": "stderr",
     "output_type": "stream",
     "text": [
      "\r",
      " 83%|████████▎ | 10/12 [13:05<02:48, 84.14s/it]"
     ]
    },
    {
     "name": "stdout",
     "output_type": "stream",
     "text": [
      "Extracting image patches from Tile 34...\n",
      "Extracting mask patches from Tile 34...\n",
      "Saving image patches of Tile 34...\n",
      "Saving mask patches of Tile 34...\n"
     ]
    },
    {
     "name": "stderr",
     "output_type": "stream",
     "text": [
      "\r",
      " 92%|█████████▏| 11/12 [13:54<01:13, 73.52s/it]"
     ]
    },
    {
     "name": "stdout",
     "output_type": "stream",
     "text": [
      "Extracting image patches from Tile 37...\n",
      "Extracting mask patches from Tile 37...\n",
      "Saving image patches of Tile 37...\n",
      "Saving mask patches of Tile 37...\n"
     ]
    },
    {
     "name": "stderr",
     "output_type": "stream",
     "text": [
      "100%|██████████| 12/12 [14:52<00:00, 74.39s/it]"
     ]
    },
    {
     "name": "stdout",
     "output_type": "stream",
     "text": [
      "All done !\n",
      " The images have been saved in /home/cliff/rs_imagery/ISPRS_DATASETS/Vaihingen/vaihingen_256/images/train\n",
      " The masks have been saved in /home/cliff/rs_imagery/ISPRS_DATASETS/Vaihingen/vaihingen_256/masks/train\n",
      "The training set consists of 17610 images with 17610 masks\n"
     ]
    },
    {
     "name": "stderr",
     "output_type": "stream",
     "text": [
      "\n"
     ]
    }
   ],
   "source": [
    "# create training samples\n",
    "create_trainset(img_ids=train_ids, img_files=img_files, msk_files=msk_files, \n",
    "                dst_img_folder=dst_dir+'images/train', \n",
    "                dst_msk_folder=dst_dir+'masks/train',\n",
    "                transform=True, patch_size=window_size, step_size=step_size)"
   ]
  },
  {
   "cell_type": "code",
   "execution_count": null,
   "metadata": {},
   "outputs": [],
   "source": []
  },
  {
   "cell_type": "code",
   "execution_count": null,
   "metadata": {},
   "outputs": [],
   "source": []
  },
  {
   "cell_type": "code",
   "execution_count": null,
   "metadata": {},
   "outputs": [],
   "source": []
  },
  {
   "cell_type": "code",
   "execution_count": null,
   "metadata": {},
   "outputs": [],
   "source": []
  },
  {
   "cell_type": "code",
   "execution_count": null,
   "metadata": {},
   "outputs": [],
   "source": [
    "# re-save tiles and masks as png format \n",
    "if not os.path.isdir(dst_dir2):\n",
    "    os.makedirs(dst_dir2 + 'images/train')\n",
    "    os.makedirs(dst_dir2 + 'images/test')\n",
    "    os.makedirs(dst_dir2 + 'masks/train')\n",
    "    os.makedirs(dst_dir2 + 'masks/e_test')\n",
    "    os.makedirs(dst_dir2 + 'masks/test')\n",
    "else:\n",
    "    raise Exception(\"Directory exists\")\n",
    "    \n",
    "    \n",
    "for id in train_ids:\n",
    "    image = io.imread(str(img_files).format(*id))\n",
    "    mask = img_to_mask(io.imread(str(mask_files).format(*id)))\n",
    "\n",
    "    im = img_files.stem.format(*id)\n",
    "    mk = mask_files.stem.format(*id)\n",
    "    io.imsave('{}/{}.png'.format(dst_dir2 + 'images/train', im), img_as_ubyte(image))\n",
    "    io.imsave('{}/{}.png'.format(dst_dir2 + 'masks/train', mk), img_as_ubyte(mask))\n",
    "    del(mask, image)"
   ]
  },
  {
   "cell_type": "code",
   "execution_count": null,
   "metadata": {},
   "outputs": [],
   "source": [
    "for id in test_ids:\n",
    "    mask = img_to_mask(io.imread(str(e_mask_files).format(*id)))\n",
    "    mk = mask_files.stem.format(*id)\n",
    "    io.imsave('{}/{}.png'.format(dst_dir2 + 'masks/e_test', mk), img_as_ubyte(mask))\n",
    "    del(mask)"
   ]
  },
  {
   "cell_type": "code",
   "execution_count": null,
   "metadata": {},
   "outputs": [],
   "source": [
    "for id in test_ids:\n",
    "    image = io.imread(str(img_files).format(*id))\n",
    "    mask = img_to_mask(io.imread(str(mask_files).format(*id)))\n",
    "\n",
    "    im = img_files.stem.format(*id)\n",
    "    mk = mask_files.stem.format(*id)\n",
    "    io.imsave('{}/{}.png'.format(dst_dir2 + 'images/test', im), img_as_ubyte(image))\n",
    "    io.imsave('{}/{}.png'.format(dst_dir2 + 'masks/test', mk), img_as_ubyte(mask))\n",
    "    del(mask, image)"
   ]
  },
  {
   "cell_type": "code",
   "execution_count": null,
   "metadata": {},
   "outputs": [],
   "source": [
    "data_path = Path('/home/cliff/rs_imagery/ISPRS-DATASETS/Vaihingen/vaihingen_png_format/valid')\n",
    "img_path = data_path/'images'\n",
    "label_path = data_path/'masks'\n",
    "data_path"
   ]
  },
  {
   "cell_type": "code",
   "execution_count": null,
   "metadata": {},
   "outputs": [],
   "source": [
    "l = get_files(label_path)\n",
    "m = get_files(img_path)"
   ]
  },
  {
   "cell_type": "code",
   "execution_count": null,
   "metadata": {},
   "outputs": [],
   "source": [
    "img = open_image(m[1])\n",
    "img.show()"
   ]
  },
  {
   "cell_type": "code",
   "execution_count": null,
   "metadata": {},
   "outputs": [],
   "source": [
    "msk = open_mask(l[1])\n",
    "msk.show()"
   ]
  },
  {
   "cell_type": "code",
   "execution_count": null,
   "metadata": {},
   "outputs": [],
   "source": [
    "mks_ = mask_to_img(msk.data.numpy().squeeze())\n",
    "plt.imshow(mks_)\n",
    "plt.show()"
   ]
  },
  {
   "cell_type": "code",
   "execution_count": null,
   "metadata": {},
   "outputs": [],
   "source": []
  },
  {
   "cell_type": "code",
   "execution_count": null,
   "metadata": {},
   "outputs": [],
   "source": []
  },
  {
   "cell_type": "code",
   "execution_count": null,
   "metadata": {},
   "outputs": [],
   "source": []
  },
  {
   "cell_type": "code",
   "execution_count": null,
   "metadata": {},
   "outputs": [],
   "source": []
  },
  {
   "cell_type": "code",
   "execution_count": null,
   "metadata": {},
   "outputs": [],
   "source": []
  },
  {
   "cell_type": "code",
   "execution_count": null,
   "metadata": {},
   "outputs": [],
   "source": []
  }
 ],
 "metadata": {
  "kernelspec": {
   "display_name": "Python 3",
   "language": "python",
   "name": "python3"
  },
  "language_info": {
   "codemirror_mode": {
    "name": "ipython",
    "version": 3
   },
   "file_extension": ".py",
   "mimetype": "text/x-python",
   "name": "python",
   "nbconvert_exporter": "python",
   "pygments_lexer": "ipython3",
   "version": "3.8.2"
  }
 },
 "nbformat": 4,
 "nbformat_minor": 2
}
