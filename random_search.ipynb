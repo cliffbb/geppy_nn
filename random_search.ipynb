{
 "cells": [
  {
   "cell_type": "code",
   "execution_count": 1,
   "metadata": {},
   "outputs": [],
   "source": [
    "%load_ext autoreload\n",
    "%autoreload 2"
   ]
  },
  {
   "cell_type": "code",
   "execution_count": 2,
   "metadata": {},
   "outputs": [
    {
     "name": "stdout",
     "output_type": "stream",
     "text": [
      "Great! Good to go!\n"
     ]
    }
   ],
   "source": [
    "from fastai.vision.all import *\n",
    "from fastai.distributed import *\n",
    "from fastai.metrics import error_rate\n",
    "from fastai.callback.tracker import SaveModelCallback\n",
    "\n",
    "from fastai.callback.cutmix import CutMix\n",
    "from fastai.callback.mixup import MixUp\n",
    "\n",
    "if torch.cuda.is_available():\n",
    "  print(\"Great! Good to go!\")\n",
    "else:\n",
    "  print('CUDA is not up!')"
   ]
  },
  {
   "cell_type": "code",
   "execution_count": 3,
   "metadata": {},
   "outputs": [],
   "source": [
    "from gepcore.utils import cell_graph, convolution\n",
    "from gepcore.entity import Gene, Chromosome\n",
    "from gepcore.symbol import PrimitiveSet\n",
    "from gepnet.model_v2 import get_net, arch_config\n",
    "from gepnet.utils import count_parameters\n",
    "torch.backends.cudnn.benchmark = True"
   ]
  },
  {
   "cell_type": "code",
   "execution_count": 4,
   "metadata": {},
   "outputs": [],
   "source": [
    "from pygraphviz import AGraph\n",
    "import glob"
   ]
  },
  {
   "cell_type": "code",
   "execution_count": 19,
   "metadata": {},
   "outputs": [],
   "source": [
    "# get chromosme from fil1\n",
    "gpath = '/home/cliff/ResearchProjects/geppy_nn/mlj_experiments/431'\n",
    "graphs = [AGraph(g) for g in glob.glob(gpath+'/*.dot')]\n",
    "_, comp_graphs = cell_graph.generate_comp_graph(graphs)\n",
    "\n",
    "#cell_graph.draw_graph(graph, 'nb_graphs/rs/run_4')\n",
    "# print(comp_graphs)"
   ]
  },
  {
   "cell_type": "code",
   "execution_count": null,
   "metadata": {
    "scrolled": false
   },
   "outputs": [],
   "source": [
    "# generate new chromosome\n",
    "# define primitive set\n",
    "pset = PrimitiveSet('cnn')\n",
    "\n",
    "# add cellular encoding program symbols\n",
    "pset.add_program_symbol(cell_graph.end)\n",
    "pset.add_program_symbol(cell_graph.seq)\n",
    "pset.add_program_symbol(cell_graph.cpo)\n",
    "pset.add_program_symbol(cell_graph.cpi)\n",
    "\n",
    "# add convolutional operations symbols\n",
    "conv_symbol = convolution.get_symbol()\n",
    "# pset.add_cell_symbol(conv_symbol.conv3x3)\n",
    "pset.add_cell_symbol(conv_symbol.sepconv3x3)\n",
    "pset.add_cell_symbol(conv_symbol.dilconv3x3)\n",
    "pset.add_cell_symbol(conv_symbol.dilconv5x5)\n",
    "pset.add_cell_symbol(conv_symbol.sepconv5x5)\n",
    "#pset.add_cell_symbol(conv_symbol.dwconv3x3)\n",
    "pset.add_cell_symbol(conv_symbol.maxpool3x3)\n",
    "# pset.add_cell_symbol(conv_symbol.conv1x1)\n",
    "#pset.add_cell_symbol(conv_symbol.conv3x1x3)\n",
    "# pset.add_cell_symbol(conv_symbol.conv1x3)\n",
    "# pset.add_cell_symbol(conv_symbol.conv3x1)\n",
    "\n",
    "# comp_graphs = []\n",
    "# for i in range(3):\n",
    "#     def gene_gen():\n",
    "#         return Gene(pset, 2)\n",
    "#     ch = Chromosome(gene_gen, 3)\n",
    "#     graph, comp_graph = cell_graph.generate_comp_graph(ch)\n",
    "#     comp_graphs.append(comp_graph)\n",
    "#     cell_graph.save_graph(graph, 'comp_graphs/tevc_2020/{}'.format(i))\n",
    "#     cell_graph.draw_graph(graph, 'comp_graphs/tevc_2020/{}'.format(i))\n",
    "\n",
    "# for i in range(10):\n",
    "def gene_gen():\n",
    "    return Gene(pset, 2)\n",
    "ch = Chromosome(gene_gen, 3)\n",
    "graphs, comp_graphs = cell_graph.generate_comp_graph(ch)\n",
    "cell_graph.save_graph(graphs, 'comp_graphs/ssci_2020/')\n",
    "cell_graph.draw_graph(graphs, 'comp_graphs/ssci_2020/')"
   ]
  },
  {
   "cell_type": "code",
   "execution_count": 6,
   "metadata": {},
   "outputs": [],
   "source": [
    "seed = 331\n",
    "np.random.seed(seed)\n",
    "torch.manual_seed(seed)\n",
    "torch.backends.cudnn.deterministic = True\n",
    "torch.backends.cudnn.benchmark = False"
   ]
  },
  {
   "cell_type": "code",
   "execution_count": 20,
   "metadata": {
    "scrolled": true
   },
   "outputs": [
    {
     "data": {
      "text/plain": [
       "5.499773"
      ]
     },
     "execution_count": 20,
     "metadata": {},
     "output_type": "execute_result"
    }
   ],
   "source": [
    "conf = arch_config(comp_graphs=comp_graphs,\n",
    "                   channels=16,\n",
    "                   repeat_list=[3, 4, 4, 1],\n",
    "                   classes=45)\n",
    "\n",
    "net = get_net(conf)\n",
    "count_parameters(net)"
   ]
  },
  {
   "cell_type": "code",
   "execution_count": 21,
   "metadata": {},
   "outputs": [
    {
     "name": "stdout",
     "output_type": "stream",
     "text": [
      "flops:   0.7278692608\n",
      "params:  5.499773\n"
     ]
    }
   ],
   "source": [
    "from ptflops import get_model_complexity_info\n",
    "# flops, params = get_model_complexity_info(net, (3, 32, 32), as_strings=True, print_per_layer_stat=False)\n",
    "# print('flops:  ', flops)\n",
    "# print('params: ', params)\n",
    "# print()\n",
    "flops, params = get_model_complexity_info(net, (3, 224, 224), as_strings=False, print_per_layer_stat=False,\n",
    "                                         verbose=False)\n",
    "print('flops:  ', flops/1e10)\n",
    "print('params: ', params/1e6)"
   ]
  },
  {
   "cell_type": "code",
   "execution_count": null,
   "metadata": {},
   "outputs": [],
   "source": []
  },
  {
   "cell_type": "code",
   "execution_count": null,
   "metadata": {
    "scrolled": true
   },
   "outputs": [],
   "source": [
    "# x = torch.randn((1, 3, 224, 224))\n",
    "# def get_layers(model):\n",
    "#     for name, layer in model._modules.items():\n",
    "#         if isinstance(layer, nn.Sequential):\n",
    "#             get_layers(layer)\n",
    "#         else:\n",
    "#             layer.register_forward_hook(hooker)\n",
    "\n",
    "# def hooker(model, input, output):\n",
    "#     print(model)\n",
    "#     print('in_shape:', input[0].size())\n",
    "#     print('out_shape', output.data.size())\n",
    "#     print('-' * 40)\n",
    "\n",
    "# get_layers(model)\n",
    "# model.eval()\n",
    "# y = model(x)"
   ]
  },
  {
   "cell_type": "code",
   "execution_count": null,
   "metadata": {
    "scrolled": true
   },
   "outputs": [],
   "source": [
    "#planet_source = untar_data(URLs.PLANET_SAMPLE)\n",
    "#df = pd.read_csv(planet_source/'labels.csv')\n",
    "planet_source = Path.home()/'rs_imagery/train-jpg'\n",
    "df = pd.read_csv(planet_source/'train_label/train_label.csv')\n",
    "\n",
    "batch_tfms = aug_transforms(flip_vert=True, max_lighting=0.1, max_zoom=1.05, max_warp=0., size=224)\n",
    "\n",
    "planet = DataBlock(blocks=(ImageBlock, MultiCategoryBlock),\n",
    "                   get_x=ColReader(0, pref=f'{planet_source}/', suff='.jpg'),\n",
    "                   splitter=RandomSplitter(),\n",
    "                   get_y=ColReader(1, label_delim=' '),\n",
    "                   batch_tfms = batch_tfms)\n",
    "\n",
    "data = planet.dataloaders(df, bs=8)\n",
    "\n",
    "path = Path(\"/home/cliff/rs_imagery/AID\")\n",
    "tfms = get_transforms(flip_vert=True, max_lighting=0.1, max_zoom=1.05, max_warp=0.)\n",
    "\n",
    "bs = 128\n",
    "data = (ImageList.from_folder(path/'train')\n",
    "        .split_by_rand_pct(valid_pct=0.1, seed=seed) \n",
    "        .label_from_folder()\n",
    "        .transform(tfms, size=224)\n",
    "        .databunch(bs=bs, num_workers=num_cpus())\n",
    "        .normalize())"
   ]
  },
  {
   "cell_type": "code",
   "execution_count": null,
   "metadata": {},
   "outputs": [],
   "source": [
    "test_source = Path.home()/'rs_imagery/test-jpg'\n",
    "df = pd.read_csv(test_source/'test_label/test_label.csv')\n",
    "\n",
    "batch_tfms = aug_transforms(do_flip=False, max_lighting=0.1, max_zoom=1.05, max_warp=0., size=224)\n",
    "\n",
    "\n",
    "test = DataBlock(blocks=(ImageBlock, MultiCategoryBlock),\n",
    "                        get_x=ColReader(0, pref=f'{test_source}/', suff='.jpg'),\n",
    "                        get_y=ColReader(1, label_delim=' '),\n",
    "                        batch_tfms = batch_tfms)\n",
    "\n",
    "ts = test.dataloaders(df, bs=8)"
   ]
  },
  {
   "cell_type": "code",
   "execution_count": null,
   "metadata": {},
   "outputs": [],
   "source": []
  },
  {
   "cell_type": "code",
   "execution_count": null,
   "metadata": {
    "scrolled": false
   },
   "outputs": [],
   "source": [
    "from fastai.metrics import accuracy_multi"
   ]
  },
  {
   "cell_type": "code",
   "execution_count": null,
   "metadata": {},
   "outputs": [],
   "source": [
    "#model_dir = '/home/cliff/ResearchProjects/models/random_search/'\n",
    "# learn = Learner(data, net, metrics=[error_rate, accuracy], model_dir=gpath).mixup()\n",
    "\n",
    "save = SaveModelCallback(monitor='accuracy_multi', name='multi_model')\n",
    "mixup = MixUp()\n",
    "\n",
    "learn = Learner(data, net, metrics=partial(accuracy_multi, thresh=0.5), cbs=[save, mixup], \n",
    "                loss_func = BCEWithLogitsLossFlat(), model_dir=gpath)\n",
    "learn.to_fp16()"
   ]
  },
  {
   "cell_type": "code",
   "execution_count": null,
   "metadata": {},
   "outputs": [],
   "source": [
    "learn.lr_find()\n",
    "\n",
    "# learn.recorder.plot()"
   ]
  },
  {
   "cell_type": "code",
   "execution_count": null,
   "metadata": {
    "scrolled": true
   },
   "outputs": [],
   "source": [
    "learn.fit_one_cycle(100, 1e-3, wd=1e-4) "
   ]
  },
  {
   "cell_type": "code",
   "execution_count": null,
   "metadata": {},
   "outputs": [],
   "source": [
    "learn.get_preds(dl=t)"
   ]
  },
  {
   "cell_type": "code",
   "execution_count": null,
   "metadata": {},
   "outputs": [],
   "source": [
    "learn.validate(dl=data.valid)"
   ]
  },
  {
   "cell_type": "code",
   "execution_count": null,
   "metadata": {},
   "outputs": [],
   "source": []
  },
  {
   "cell_type": "code",
   "execution_count": null,
   "metadata": {},
   "outputs": [],
   "source": []
  },
  {
   "cell_type": "code",
   "execution_count": null,
   "metadata": {},
   "outputs": [],
   "source": [
    "################################# Testing ########################################"
   ]
  },
  {
   "cell_type": "code",
   "execution_count": null,
   "metadata": {},
   "outputs": [],
   "source": [
    "gpath = '/home/cliff/ResearchProjects/geppy_nn/mlj_experiments/3-2-train/3-2-seed-2/best/indv_10'\n",
    "graph = [AGraph(g) for g in glob.glob(gpath+'/*.dot')]\n",
    "_, comp_graph = cell_graph.generate_comp_graph(graph)\n",
    "\n",
    "\n",
    "conf = arch_config(comp_graph=comp_graph,\n",
    "               depth_coeff=1.0,\n",
    "               width_coeff=1.0,\n",
    "               channels=16,\n",
    "               repeat_list=[3, 2, 1, 2],\n",
    "               classes=30)\n",
    "\n",
    "net = get_gepnet(conf)\n",
    "\n",
    "print(count_parameters(net),'\\n')\n",
    "\n",
    "\n",
    "tfms = get_transforms(do_flip=False)\n",
    "path = Path(\"/home/cliff/rs_imagery/AID/\")\n",
    "\n",
    "bs = 128\n",
    "\n",
    "data = (ImageList.from_folder(path)\n",
    "        .split_by_folder(train='train', valid='test')\n",
    "        .label_from_folder()\n",
    "        .transform(tfms, size=224)\n",
    "        .databunch(bs=bs, num_workers=num_cpus())\n",
    "        .normalize())\n",
    "\n",
    "model = Learner(data, net, metrics=[accuracy, error_rate]).load(gpath+'/aid-model-s322')\n",
    "_, acc, _ = model.validate()\n",
    "print('%.2f' %(acc.item()*100))"
   ]
  },
  {
   "cell_type": "code",
   "execution_count": null,
   "metadata": {},
   "outputs": [],
   "source": []
  },
  {
   "cell_type": "code",
   "execution_count": null,
   "metadata": {},
   "outputs": [],
   "source": []
  },
  {
   "cell_type": "code",
   "execution_count": null,
   "metadata": {},
   "outputs": [],
   "source": []
  },
  {
   "cell_type": "code",
   "execution_count": null,
   "metadata": {},
   "outputs": [],
   "source": []
  }
 ],
 "metadata": {
  "kernelspec": {
   "display_name": "Python 3",
   "language": "python",
   "name": "python3"
  },
  "language_info": {
   "codemirror_mode": {
    "name": "ipython",
    "version": 3
   },
   "file_extension": ".py",
   "mimetype": "text/x-python",
   "name": "python",
   "nbconvert_exporter": "python",
   "pygments_lexer": "ipython3",
   "version": "3.8.2"
  }
 },
 "nbformat": 4,
 "nbformat_minor": 2
}
