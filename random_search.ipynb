{
 "cells": [
  {
   "cell_type": "code",
   "execution_count": null,
   "metadata": {},
   "outputs": [],
   "source": [
    "from fastai.vision import *\n",
    "from fastai.distributed import *\n",
    "from fastai.metrics import error_rate\n",
    "from fastai.callbacks import SaveModelCallback\n",
    "\n",
    "if torch.cuda.is_available():\n",
    "  print(\"Great! Good to go!\")\n",
    "else:\n",
    "  print('CUDA is not up!')"
   ]
  },
  {
   "cell_type": "code",
   "execution_count": null,
   "metadata": {},
   "outputs": [],
   "source": [
    "from gepcore.utils import cell_graph, convolution\n",
    "from gepcore.entity import Gene, Chromosome\n",
    "from gepcore.symbol import PrimitiveSet\n",
    "from gepnet.model import get_gepnet, arch_config\n",
    "from gepnet.utils import count_parameters\n",
    "torch.backends.cudnn.benchmark = True"
   ]
  },
  {
   "cell_type": "code",
   "execution_count": null,
   "metadata": {},
   "outputs": [],
   "source": [
    "from pygraphviz import AGraph\n",
    "import glob"
   ]
  },
  {
   "cell_type": "code",
   "execution_count": null,
   "metadata": {},
   "outputs": [],
   "source": [
    "# get chromosme from fil1\n",
    "gpath = '/home/cliff/ResearchProjects/geppy_nn/mlj_experiments/3-2-train/3-2-seed-2/best/indv_10'\n",
    "graph = [AGraph(g) for g in glob.glob(gpath+'/*.dot')]\n",
    "_, comp_graph = cell_graph.generate_comp_graph(graph)\n",
    "\n",
    "#cell_graph.draw_graph(graph, 'nb_graphs/rs/run_4')\n",
    "print(comp_graph)"
   ]
  },
  {
   "cell_type": "code",
   "execution_count": null,
   "metadata": {
    "scrolled": false
   },
   "outputs": [],
   "source": [
    "# # generate new chromosome\n",
    "# # define primitive set\n",
    "# pset = PrimitiveSet('cnn')\n",
    "\n",
    "# # add cellular encoding program symbols\n",
    "# pset.add_program_symbol(cell_graph.end)\n",
    "# pset.add_program_symbol(cell_graph.seq)\n",
    "# pset.add_program_symbol(cell_graph.cpo)\n",
    "# pset.add_program_symbol(cell_graph.cpi)\n",
    "\n",
    "# # add convolutional operations symbols\n",
    "# conv_symbol = convolution.get_symbol()\n",
    "# pset.add_cell_symbol(conv_symbol.conv1x1)\n",
    "# pset.add_cell_symbol(conv_symbol.conv3x3)\n",
    "# pset.add_cell_symbol(conv_symbol.dwconv3x3)\n",
    "# #pset.add_cell_symbol(conv_symbol.conv1x3)\n",
    "# #pset.add_cell_symbol(conv_symbol.conv3x1)\n",
    "# #pset.add_cell_symbol(conv_symbol.maxpool3x3)\n",
    "\n",
    "# def gene_gen():\n",
    "#     return Gene(pset, 3)\n",
    "\n",
    "# ch = Chromosome(gene_gen, 4)\n",
    "# graph, comp_graph = cell_graph.generate_comp_graph(ch)\n",
    "\n",
    "# cell_graph.save_graph(graph, 'nb_graphs/rs/run_4')\n",
    "# cell_graph.draw_graph(graph, 'nb_graphs/rs/run_4')"
   ]
  },
  {
   "cell_type": "code",
   "execution_count": null,
   "metadata": {},
   "outputs": [],
   "source": [
    "seed = 331\n",
    "np.random.seed(seed)\n",
    "torch.manual_seed(seed)\n",
    "torch.backends.cudnn.deterministic = True\n",
    "torch.backends.cudnn.benchmark = False"
   ]
  },
  {
   "cell_type": "code",
   "execution_count": null,
   "metadata": {},
   "outputs": [],
   "source": [
    "conf = arch_config(comp_graph=comp_graph,\n",
    "                   depth_coeff=1.0,\n",
    "                   width_coeff=1.0,\n",
    "                   channels=16,\n",
    "                   repeat_list=[3, 2, 1, 2],\n",
    "                   classes=30)\n",
    "\n",
    "net = get_gepnet(conf)\n",
    "count_parameters(net)"
   ]
  },
  {
   "cell_type": "code",
   "execution_count": null,
   "metadata": {
    "scrolled": true
   },
   "outputs": [],
   "source": [
    "path = Path(\"/home/cliff/rs_imagery/AID\")\n",
    "tfms = get_transforms(flip_vert=True, max_lighting=0.1, max_zoom=1.05, max_warp=0.)\n",
    "\n",
    "bs = 128\n",
    "data = (ImageList.from_folder(path/'train')\n",
    "        .split_by_rand_pct(valid_pct=0.1, seed=seed) \n",
    "        .label_from_folder()\n",
    "        .transform(tfms, size=224)\n",
    "        .databunch(bs=bs, num_workers=num_cpus())\n",
    "        .normalize())"
   ]
  },
  {
   "cell_type": "code",
   "execution_count": null,
   "metadata": {},
   "outputs": [],
   "source": [
    "#model_dir = '/home/cliff/ResearchProjects/models/random_search/'\n",
    "learn = Learner(data, net, metrics=[error_rate, accuracy], model_dir=gpath).mixup()\n",
    "learn.to_fp16()"
   ]
  },
  {
   "cell_type": "code",
   "execution_count": null,
   "metadata": {},
   "outputs": [],
   "source": [
    "learn.lr_find(end_lr=100)\n",
    "\n",
    "learn.recorder.plot()"
   ]
  },
  {
   "cell_type": "code",
   "execution_count": null,
   "metadata": {
    "scrolled": true
   },
   "outputs": [],
   "source": [
    "cb = SaveModelCallback(learn, every='improvement', monitor='accuracy', name='aid-model-s322')\n",
    "learn.fit_one_cycle(500, 1e-2, wd=0.0004, callbacks=[cb]) "
   ]
  },
  {
   "cell_type": "code",
   "execution_count": null,
   "metadata": {},
   "outputs": [],
   "source": []
  },
  {
   "cell_type": "code",
   "execution_count": null,
   "metadata": {},
   "outputs": [],
   "source": [
    "################################# Testing ########################################"
   ]
  },
  {
   "cell_type": "code",
   "execution_count": null,
   "metadata": {},
   "outputs": [],
   "source": [
    "gpath = '/home/cliff/ResearchProjects/geppy_nn/mlj_experiments/3-2-train/3-2-seed-2/best/indv_10'\n",
    "graph = [AGraph(g) for g in glob.glob(gpath+'/*.dot')]\n",
    "_, comp_graph = cell_graph.generate_comp_graph(graph)\n",
    "\n",
    "\n",
    "conf = arch_config(comp_graph=comp_graph,\n",
    "               depth_coeff=1.0,\n",
    "               width_coeff=1.0,\n",
    "               channels=16,\n",
    "               repeat_list=[3, 2, 1, 2],\n",
    "               classes=30)\n",
    "\n",
    "net = get_gepnet(conf)\n",
    "\n",
    "print(count_parameters(net),'\\n')\n",
    "\n",
    "\n",
    "tfms = get_transforms(do_flip=False)\n",
    "path = Path(\"/home/cliff/rs_imagery/AID/\")\n",
    "\n",
    "bs = 128\n",
    "\n",
    "data = (ImageList.from_folder(path)\n",
    "        .split_by_folder(train='train', valid='test')\n",
    "        .label_from_folder()\n",
    "        .transform(tfms, size=224)\n",
    "        .databunch(bs=bs, num_workers=num_cpus())\n",
    "        .normalize())\n",
    "\n",
    "model = Learner(data, net, metrics=[accuracy, error_rate]).load(gpath+'/aid-model-s322')\n",
    "_, acc, _ = model.validate()\n",
    "print('%.2f' %(acc.item()*100))"
   ]
  },
  {
   "cell_type": "code",
   "execution_count": null,
   "metadata": {},
   "outputs": [],
   "source": []
  },
  {
   "cell_type": "code",
   "execution_count": null,
   "metadata": {},
   "outputs": [],
   "source": []
  },
  {
   "cell_type": "code",
   "execution_count": null,
   "metadata": {},
   "outputs": [],
   "source": []
  },
  {
   "cell_type": "code",
   "execution_count": null,
   "metadata": {},
   "outputs": [],
   "source": []
  }
 ],
 "metadata": {
  "kernelspec": {
   "display_name": "Python 3",
   "language": "python",
   "name": "python3"
  },
  "language_info": {
   "codemirror_mode": {
    "name": "ipython",
    "version": 3
   },
   "file_extension": ".py",
   "mimetype": "text/x-python",
   "name": "python",
   "nbconvert_exporter": "python",
   "pygments_lexer": "ipython3",
   "version": "3.6.10"
  }
 },
 "nbformat": 4,
 "nbformat_minor": 2
}
