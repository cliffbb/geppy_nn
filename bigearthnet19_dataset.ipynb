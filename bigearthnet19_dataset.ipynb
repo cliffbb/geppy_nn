{
 "cells": [
  {
   "cell_type": "code",
   "execution_count": 1,
   "metadata": {},
   "outputs": [],
   "source": [
    "%load_ext autoreload\n",
    "%autoreload 2"
   ]
  },
  {
   "cell_type": "code",
   "execution_count": 2,
   "metadata": {},
   "outputs": [
    {
     "name": "stdout",
     "output_type": "stream",
     "text": [
      "Great! Good to go!. You have 4 GPUs\n"
     ]
    }
   ],
   "source": [
    "from fastai.vision.all import *\n",
    "# from fastai.data.core import DataLoaders\n",
    "from fastai.callback.tracker import SaveModelCallback\n",
    "\n",
    "# from bigearthnet19.bigearthnet19_utils import TrainValidCSV, GenerateBigEarthNetPNG\n",
    "#from fastai.metrics import accuracy_multi\n",
    "\n",
    "if torch.cuda.is_available():print(\"Great! Good to go!. You have {} GPUs\".format(torch.cuda.device_count()))\n",
    "else: print('CUDA is not up!')"
   ]
  },
  {
   "cell_type": "code",
   "execution_count": null,
   "metadata": {},
   "outputs": [],
   "source": [
    "from bigearthnet19.bigearthnet19_utils import TrainValidCSV, GenerateBigEarthNetPNG\n",
    "\n",
    "dataset_dir = '/home/atsumilab/Clifford/rs_imagery/BigEarthNet-v1.0/'\n",
    "patch_names = dataset_dir+'splits/test.csv'\n",
    "labels = dataset_dir+'label_indices.json'\n",
    "out_dir = '/home/atsumilab/Clifford/rs_imagery/BigEarthNet19/test/'"
   ]
  },
  {
   "cell_type": "code",
   "execution_count": null,
   "metadata": {},
   "outputs": [],
   "source": [
    "TrainValidCSV(dataset_dir, patch_names, labels).csv_generation()\n",
    "\n",
    "GenerateBigEarthNetPNG(dataset_dir, out_dir, 'rgb', patch_names, labels).generate_png()"
   ]
  },
  {
   "cell_type": "code",
   "execution_count": 62,
   "metadata": {},
   "outputs": [],
   "source": [
    "dpath = Path('/home/atsumilab/Clifford/rs_imagery/BigEarthNet19/')\n",
    "\n",
    "df = pd.read_csv(dpath/'test.csv', sep=';',  header=0, names=['keys', 'labels', 'is_valid'])"
   ]
  },
  {
   "cell_type": "code",
   "execution_count": 65,
   "metadata": {},
   "outputs": [
    {
     "data": {
      "text/html": [
       "<div>\n",
       "<style scoped>\n",
       "    .dataframe tbody tr th:only-of-type {\n",
       "        vertical-align: middle;\n",
       "    }\n",
       "\n",
       "    .dataframe tbody tr th {\n",
       "        vertical-align: top;\n",
       "    }\n",
       "\n",
       "    .dataframe thead th {\n",
       "        text-align: right;\n",
       "    }\n",
       "</style>\n",
       "<table border=\"1\" class=\"dataframe\">\n",
       "  <thead>\n",
       "    <tr style=\"text-align: right;\">\n",
       "      <th></th>\n",
       "      <th>keys</th>\n",
       "      <th>labels</th>\n",
       "      <th>is_valid</th>\n",
       "    </tr>\n",
       "  </thead>\n",
       "  <tbody>\n",
       "    <tr>\n",
       "      <th>0</th>\n",
       "      <td>S2A_MSIL2A_20170717T113321_28_88.png</td>\n",
       "      <td>Pastures</td>\n",
       "      <td>True</td>\n",
       "    </tr>\n",
       "    <tr>\n",
       "      <th>1</th>\n",
       "      <td>S2A_MSIL2A_20170717T113321_29_86.png</td>\n",
       "      <td>Pastures</td>\n",
       "      <td>True</td>\n",
       "    </tr>\n",
       "    <tr>\n",
       "      <th>2</th>\n",
       "      <td>S2A_MSIL2A_20170717T113321_30_79.png</td>\n",
       "      <td>Pastures</td>\n",
       "      <td>True</td>\n",
       "    </tr>\n",
       "    <tr>\n",
       "      <th>3</th>\n",
       "      <td>S2A_MSIL2A_20170717T113321_30_89.png</td>\n",
       "      <td>Pastures|Land principally occupied by agriculture, with significant areas of natural vegetation</td>\n",
       "      <td>True</td>\n",
       "    </tr>\n",
       "    <tr>\n",
       "      <th>4</th>\n",
       "      <td>S2A_MSIL2A_20170717T113321_31_81.png</td>\n",
       "      <td>Pastures|Land principally occupied by agriculture, with significant areas of natural vegetation</td>\n",
       "      <td>True</td>\n",
       "    </tr>\n",
       "  </tbody>\n",
       "</table>\n",
       "</div>"
      ],
      "text/plain": [
       "                                   keys  \\\n",
       "0  S2A_MSIL2A_20170717T113321_28_88.png   \n",
       "1  S2A_MSIL2A_20170717T113321_29_86.png   \n",
       "2  S2A_MSIL2A_20170717T113321_30_79.png   \n",
       "3  S2A_MSIL2A_20170717T113321_30_89.png   \n",
       "4  S2A_MSIL2A_20170717T113321_31_81.png   \n",
       "\n",
       "                                                                                            labels  \\\n",
       "0                                                                                         Pastures   \n",
       "1                                                                                         Pastures   \n",
       "2                                                                                         Pastures   \n",
       "3  Pastures|Land principally occupied by agriculture, with significant areas of natural vegetation   \n",
       "4  Pastures|Land principally occupied by agriculture, with significant areas of natural vegetation   \n",
       "\n",
       "   is_valid  \n",
       "0      True  \n",
       "1      True  \n",
       "2      True  \n",
       "3      True  \n",
       "4      True  "
      ]
     },
     "execution_count": 65,
     "metadata": {},
     "output_type": "execute_result"
    }
   ],
   "source": [
    "df.head()"
   ]
  },
  {
   "cell_type": "code",
   "execution_count": 64,
   "metadata": {},
   "outputs": [],
   "source": [
    "df['is_valid'] = True"
   ]
  },
  {
   "cell_type": "code",
   "execution_count": 66,
   "metadata": {},
   "outputs": [],
   "source": [
    "df.to_csv('test.csv', sep=';', index=False)"
   ]
  },
  {
   "cell_type": "code",
   "execution_count": null,
   "metadata": {},
   "outputs": [],
   "source": []
  },
  {
   "cell_type": "code",
   "execution_count": null,
   "metadata": {
    "scrolled": true
   },
   "outputs": [],
   "source": [
    "# get_x: lambda x: x['keys']\n",
    "# get_y: lambda y: y['labels'].split('|')\n",
    "def splitter(df):\n",
    "    train = df.index[~df['is_valid']].tolist()\n",
    "    valid = df.index[df['is_valid']].tolist()\n",
    "    return train, valid\n",
    "\n",
    "def get_x(r): return dpath/'train'/r['keys']\n",
    "def get_y(r): return r['labels'].split('|')\n",
    "\n",
    "dblock = DataBlock(blocks=(ImageBlock, MultiCategoryBlock),\n",
    "                   splitter=splitter,\n",
    "                   get_x=get_x, \n",
    "                   get_y=get_y)\n",
    "\n",
    "# dsets = dblock.datasets(df)\n",
    "dls = dblock.dataloaders(df)\n",
    "\n",
    "dls.train[0]"
   ]
  },
  {
   "cell_type": "code",
   "execution_count": null,
   "metadata": {},
   "outputs": [],
   "source": [
    "dls.show_batch(nrows=1, ncols=1)"
   ]
  },
  {
   "cell_type": "code",
   "execution_count": null,
   "metadata": {},
   "outputs": [],
   "source": []
  },
  {
   "cell_type": "code",
   "execution_count": null,
   "metadata": {},
   "outputs": [],
   "source": []
  },
  {
   "cell_type": "code",
   "execution_count": null,
   "metadata": {},
   "outputs": [],
   "source": []
  },
  {
   "cell_type": "code",
   "execution_count": null,
   "metadata": {},
   "outputs": [],
   "source": []
  },
  {
   "cell_type": "code",
   "execution_count": null,
   "metadata": {},
   "outputs": [],
   "source": []
  },
  {
   "cell_type": "code",
   "execution_count": null,
   "metadata": {},
   "outputs": [],
   "source": []
  },
  {
   "cell_type": "code",
   "execution_count": null,
   "metadata": {},
   "outputs": [],
   "source": []
  },
  {
   "cell_type": "code",
   "execution_count": null,
   "metadata": {},
   "outputs": [],
   "source": []
  }
 ],
 "metadata": {
  "kernelspec": {
   "display_name": "Python 3",
   "language": "python",
   "name": "python3"
  },
  "language_info": {
   "codemirror_mode": {
    "name": "ipython",
    "version": 3
   },
   "file_extension": ".py",
   "mimetype": "text/x-python",
   "name": "python",
   "nbconvert_exporter": "python",
   "pygments_lexer": "ipython3",
   "version": "3.8.2"
  }
 },
 "nbformat": 4,
 "nbformat_minor": 4
}
