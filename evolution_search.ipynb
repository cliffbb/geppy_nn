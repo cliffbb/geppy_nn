{
 "cells": [
  {
   "cell_type": "code",
   "execution_count": null,
   "metadata": {
    "colab": {},
    "colab_type": "code",
    "id": "4DiJi9l2v3dP"
   },
   "outputs": [],
   "source": [
    "## Experimental Setup"
   ]
  },
  {
   "cell_type": "code",
   "execution_count": null,
   "metadata": {
    "colab": {
     "base_uri": "https://localhost:8080/",
     "height": 34
    },
    "colab_type": "code",
    "executionInfo": {
     "elapsed": 949,
     "status": "ok",
     "timestamp": 1578951674638,
     "user": {
      "displayName": "cliff akosa",
      "photoUrl": "",
      "userId": "08793119188384687776"
     },
     "user_tz": -540
    },
    "id": "xqkm5Gz-OxHp",
    "outputId": "c0d492dd-f179-41b9-f17a-10f003d7663d"
   },
   "outputs": [],
   "source": [
    "from fastai.vision import *\n",
    "from fastai.distributed import *\n",
    "from fastai.metrics import error_rate\n",
    "from fastai.callbacks import SaveModelCallback \n",
    "\n",
    "if torch.cuda.is_available():\n",
    "  print(\"Great! Good to go!\")\n",
    "else:\n",
    "  print('CUDA is not up!')"
   ]
  },
  {
   "cell_type": "code",
   "execution_count": null,
   "metadata": {
    "colab": {},
    "colab_type": "code",
    "id": "GqrHvPgFOxH1"
   },
   "outputs": [],
   "source": [
    "from gepcore.utils import cell_graph\n",
    "from gepnet.model_v2 import get_gepnet, arch_config\n",
    "from gepnet.utils import count_parameters\n",
    "torch.backends.cudnn.benchmark = True"
   ]
  },
  {
   "cell_type": "code",
   "execution_count": null,
   "metadata": {
    "colab": {},
    "colab_type": "code",
    "id": "tRmHVNGcOxH_"
   },
   "outputs": [],
   "source": [
    "from pygraphviz import AGraph\n",
    "import glob"
   ]
  },
  {
   "cell_type": "code",
   "execution_count": null,
   "metadata": {
    "colab": {},
    "colab_type": "code",
    "id": "kX9ZLNQKOxIH"
   },
   "outputs": [],
   "source": [
    "graph = [AGraph(g) for g in glob.glob('comp_graphs/experiment_1/best/indv_1/*.dot')]\n",
    "_, comp_graph = cell_graph.generate_comp_graph(graph)"
   ]
  },
  {
   "cell_type": "code",
   "execution_count": null,
   "metadata": {
    "colab": {},
    "colab_type": "code",
    "id": "0Vy6XZZ_dakd"
   },
   "outputs": [],
   "source": [
    "import random\n",
    "seed = 200\n",
    "random.seed(seed)\n",
    "np.random.seed(seed)\n",
    "torch.manual_seed(seed)\n",
    "torch.cuda.manual_seed(seed)\n",
    "torch.cuda.manual_seed_all(seed)\n",
    "\n",
    "# enable torch backends\n",
    "torch.backends.cudnn.enabled = True\n",
    "torch.backends.cudnn.benchmark = True\n",
    "#torch.backends.deterministic = True"
   ]
  },
  {
   "cell_type": "code",
   "execution_count": null,
   "metadata": {
    "colab": {
     "base_uri": "https://localhost:8080/",
     "height": 34
    },
    "colab_type": "code",
    "executionInfo": {
     "elapsed": 1310,
     "status": "ok",
     "timestamp": 1578951397277,
     "user": {
      "displayName": "cliff akosa",
      "photoUrl": "",
      "userId": "08793119188384687776"
     },
     "user_tz": -540
    },
    "id": "2-n0NQqMOxIV",
    "outputId": "d83ce923-461f-42b2-8b8d-5cfd78a73afa"
   },
   "outputs": [],
   "source": [
    "conf = arch_config(comp_graph=comp_graph,\n",
    "                   depth_coeff=1.0,\n",
    "                   width_coeff=1.0,\n",
    "                   channels=40,\n",
    "                   repeat_list=[2, 3, 1],\n",
    "                   classes=10)\n",
    "\n",
    "net = get_gepnet(conf)\n",
    "count_parameters(net)"
   ]
  },
  {
   "cell_type": "code",
   "execution_count": null,
   "metadata": {
    "colab": {
     "base_uri": "https://localhost:8080/",
     "height": 34
    },
    "colab_type": "code",
    "executionInfo": {
     "elapsed": 33535,
     "status": "ok",
     "timestamp": 1578951487726,
     "user": {
      "displayName": "cliff akosa",
      "photoUrl": "",
      "userId": "08793119188384687776"
     },
     "user_tz": -540
    },
    "id": "FUQrGFI6OxIc",
    "outputId": "f670e392-7967-43dc-e954-d8af0ce7cba4"
   },
   "outputs": [],
   "source": [
    "path = untar_data(URLs.CIFAR)\n",
    "tfms = get_transforms() #xtra_tfms=[cutout()]\n",
    "bs = 256\n",
    "data = (ImageList.from_folder(path/'train')\n",
    "        .split_by_rand_pct(valid_pct=0.1, seed=seed) \n",
    "        .label_from_folder()\n",
    "        .transform(tfms, size=32)\n",
    "        .databunch(bs=bs, num_workers=num_cpus())\n",
    "        .normalize(cifar_stats))"
   ]
  },
  {
   "cell_type": "code",
   "execution_count": null,
   "metadata": {
    "colab": {},
    "colab_type": "code",
    "id": "6VPHyBIYOxIh"
   },
   "outputs": [],
   "source": [
    "model_dir = '/home/cliff/ResearchProjects/models/evolution_search/experiment_1/'\n",
    "learn = Learner(data, net, metrics=[error_rate, accuracy], model_dir=model_dir).load(model_dir+'experiment_1_model_1b').mixup() \n",
    "learn.to_fp16()   "
   ]
  },
  {
   "cell_type": "code",
   "execution_count": null,
   "metadata": {
    "colab": {},
    "colab_type": "code",
    "id": "lck7gklvOxIm"
   },
   "outputs": [],
   "source": [
    "learn.lr_find(wd=4e-4,end_lr=100)\n",
    "learn.recorder.plot()"
   ]
  },
  {
   "cell_type": "code",
   "execution_count": null,
   "metadata": {
    "colab": {},
    "colab_type": "code",
    "id": "qdLZHQXUOxIr",
    "scrolled": true
   },
   "outputs": [],
   "source": [
    "cb = SaveModelCallback(learn, every='improvement', monitor='accuracy', name='experiment_1_model_1c')\n",
    "learn.fit_one_cycle(800, 3e-3, wd=0.0004, callbacks=[cb]) "
   ]
  },
  {
   "cell_type": "code",
   "execution_count": null,
   "metadata": {
    "colab": {},
    "colab_type": "code",
    "id": "Pv1Ys1fJOxI0"
   },
   "outputs": [],
   "source": [
    "####################### Testing ###########################"
   ]
  },
  {
   "cell_type": "code",
   "execution_count": null,
   "metadata": {
    "colab": {},
    "colab_type": "code",
    "id": "zSTp3jiyOxI7",
    "scrolled": true
   },
   "outputs": [],
   "source": [
    "graph_dir = '/content/mnt/My Drive/Colab Notebooks/ResearchProject/comp_graphs/experiment_1/best/indv_1/*.dot'\n",
    "graph = [AGraph(g) for g in glob.glob(graph_dir)]\n",
    "_, comp_graph = cell_graph.generate_comp_graph(graph)"
   ]
  },
  {
   "cell_type": "code",
   "execution_count": null,
   "metadata": {
    "colab": {
     "base_uri": "https://localhost:8080/",
     "height": 34
    },
    "colab_type": "code",
    "executionInfo": {
     "elapsed": 860,
     "status": "ok",
     "timestamp": 1578951687810,
     "user": {
      "displayName": "cliff akosa",
      "photoUrl": "",
      "userId": "08793119188384687776"
     },
     "user_tz": -540
    },
    "id": "3XCZ37WkOxI_",
    "outputId": "9dfb177e-eb0b-445d-caad-69aa23d2ed6b"
   },
   "outputs": [],
   "source": [
    "conf = arch_config(comp_graph=comp_graph,\n",
    "                   depth_coeff=1.0,\n",
    "                   width_coeff=1.0,\n",
    "                   channels=40,\n",
    "                   repeat_list=[2, 3, 1],\n",
    "                   classes=10)\n",
    "\n",
    "net = get_gepnet(conf)\n",
    "count_parameters(net)"
   ]
  },
  {
   "cell_type": "code",
   "execution_count": null,
   "metadata": {
    "colab": {},
    "colab_type": "code",
    "id": "GQM1HF35OxJE",
    "scrolled": true
   },
   "outputs": [],
   "source": [
    "tfms = get_transforms(do_flip=False)\n",
    "path = untar_data(URLs.CIFAR)\n",
    "bs = 256\n",
    "\n",
    "data = (ImageList.from_folder(path)\n",
    "        .split_by_folder(train='train', valid='test')\n",
    "        .label_from_folder()\n",
    "        .transform(tfms, size=32)\n",
    "        .databunch(bs=bs, num_workers=num_cpus())\n",
    "        .normalize(cifar_stats))"
   ]
  },
  {
   "cell_type": "code",
   "execution_count": null,
   "metadata": {
    "colab": {},
    "colab_type": "code",
    "id": "nS-jVbg1OxJI"
   },
   "outputs": [],
   "source": [
    "model_dir = '/content/mnt/My Drive/Colab Notebooks/ResearchProject/models/'\n",
    "model = Learner(data, net, metrics=[accuracy, error_rate]).load(model_dir+'experiment_1_model_1b')\n",
    "#model"
   ]
  },
  {
   "cell_type": "code",
   "execution_count": null,
   "metadata": {
    "colab": {
     "base_uri": "https://localhost:8080/",
     "height": 34
    },
    "colab_type": "code",
    "executionInfo": {
     "elapsed": 7482,
     "status": "ok",
     "timestamp": 1578951705123,
     "user": {
      "displayName": "cliff akosa",
      "photoUrl": "",
      "userId": "08793119188384687776"
     },
     "user_tz": -540
    },
    "id": "l7NjwVsQOxJO",
    "outputId": "0d96025f-bd2c-4c03-d33a-cf2cb17ac896"
   },
   "outputs": [],
   "source": [
    "model.validate()"
   ]
  },
  {
   "cell_type": "code",
   "execution_count": null,
   "metadata": {
    "colab": {},
    "colab_type": "code",
    "id": "kAfjfhBVOxJU",
    "scrolled": true
   },
   "outputs": [],
   "source": [
    "preds,y,losses = model.get_preds(ds_type=DatasetType.Valid, with_loss=True)\n",
    "preds[:5]"
   ]
  },
  {
   "cell_type": "code",
   "execution_count": null,
   "metadata": {
    "colab": {},
    "colab_type": "code",
    "id": "1MvzY-ESOxJY"
   },
   "outputs": [],
   "source": []
  },
  {
   "cell_type": "code",
   "execution_count": null,
   "metadata": {
    "colab": {},
    "colab_type": "code",
    "id": "I8paJKf7OxJb"
   },
   "outputs": [],
   "source": []
  },
  {
   "cell_type": "code",
   "execution_count": null,
   "metadata": {
    "colab": {},
    "colab_type": "code",
    "id": "aqiu-ZVZOxJg"
   },
   "outputs": [],
   "source": []
  },
  {
   "cell_type": "code",
   "execution_count": null,
   "metadata": {
    "colab": {},
    "colab_type": "code",
    "id": "cJUyPLoMOxJk"
   },
   "outputs": [],
   "source": []
  },
  {
   "cell_type": "code",
   "execution_count": null,
   "metadata": {
    "colab": {},
    "colab_type": "code",
    "id": "GBmkvi7-OxJp"
   },
   "outputs": [],
   "source": []
  },
  {
   "cell_type": "code",
   "execution_count": null,
   "metadata": {
    "colab": {},
    "colab_type": "code",
    "id": "kQuWTD4mOxJu"
   },
   "outputs": [],
   "source": []
  }
 ],
 "metadata": {
  "accelerator": "GPU",
  "colab": {
   "collapsed_sections": [],
   "name": "evolution_search.ipynb",
   "provenance": [
    {
     "file_id": "1sFVrI5kmKHCFVSbnea50sJnWOiTrRt3a",
     "timestamp": 1577364210955
    }
   ]
  },
  "kernelspec": {
   "display_name": "Python 3",
   "language": "python",
   "name": "python3"
  },
  "language_info": {
   "codemirror_mode": {
    "name": "ipython",
    "version": 3
   },
   "file_extension": ".py",
   "mimetype": "text/x-python",
   "name": "python",
   "nbconvert_exporter": "python",
   "pygments_lexer": "ipython3",
   "version": "3.6.9"
  }
 },
 "nbformat": 4,
 "nbformat_minor": 1
}
