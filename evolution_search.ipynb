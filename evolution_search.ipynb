{
 "cells": [
  {
   "cell_type": "code",
   "execution_count": null,
   "metadata": {
    "colab": {},
    "colab_type": "code",
    "id": "4DiJi9l2v3dP"
   },
   "outputs": [],
   "source": [
    "## Experimental Setup"
   ]
  },
  {
   "cell_type": "code",
   "execution_count": 1,
   "metadata": {
    "colab": {
     "base_uri": "https://localhost:8080/",
     "height": 34
    },
    "colab_type": "code",
    "executionInfo": {
     "elapsed": 949,
     "status": "ok",
     "timestamp": 1578951674638,
     "user": {
      "displayName": "cliff akosa",
      "photoUrl": "",
      "userId": "08793119188384687776"
     },
     "user_tz": -540
    },
    "id": "xqkm5Gz-OxHp",
    "outputId": "c0d492dd-f179-41b9-f17a-10f003d7663d"
   },
   "outputs": [],
   "source": [
    "from fastai.vision.all import *\n",
    "from fastai.distributed import *\n",
    "# from fastai.metrics import error_rate\n",
    "# from fastai.callbacks import SaveModelCallback\n",
    "from fastai.callback.tracker import SaveModelCallback\n",
    "from fastai.callback.cutmix import CutMix\n",
    "from fastai.callback.mixup import MixUp"
   ]
  },
  {
   "cell_type": "code",
   "execution_count": 2,
   "metadata": {},
   "outputs": [
    {
     "name": "stdout",
     "output_type": "stream",
     "text": [
      "Great! Good to go!\n"
     ]
    }
   ],
   "source": [
    "import torch\n",
    "if torch.cuda.is_available():\n",
    "    print(\"Great! Good to go!\")\n",
    "else:\n",
    "    print('CUDA is not up!')"
   ]
  },
  {
   "cell_type": "code",
   "execution_count": 3,
   "metadata": {
    "colab": {},
    "colab_type": "code",
    "id": "GqrHvPgFOxH1"
   },
   "outputs": [],
   "source": [
    "# from gepcore.utils import cell_graph\n",
    "# from gepnet.model_v2 import get_gepnet, arch_config\n",
    "# from gepnet.utils import count_parameters\n",
    "# torch.backends.cudnn.benchmark = True\n",
    "\n",
    "from gepcore.utils import cell_graph, convolution\n",
    "from gepcore.entity import Gene, Chromosome\n",
    "from gepcore.symbol import PrimitiveSet\n",
    "from gepnet.model_v1 import get_net, arch_config\n",
    "from gepnet.utils import count_parameters\n",
    "torch.backends.cudnn.benchmark = True"
   ]
  },
  {
   "cell_type": "code",
   "execution_count": 4,
   "metadata": {
    "colab": {},
    "colab_type": "code",
    "id": "tRmHVNGcOxH_"
   },
   "outputs": [],
   "source": [
    "from pygraphviz import AGraph\n",
    "import glob"
   ]
  },
  {
   "cell_type": "code",
   "execution_count": 5,
   "metadata": {
    "colab": {},
    "colab_type": "code",
    "id": "kX9ZLNQKOxIH"
   },
   "outputs": [],
   "source": [
    "comp_graphs = []\n",
    "for i in range(3):\n",
    "    graph = [AGraph(g) for g in glob.glob('comp_graphs/tevc_2020/{}/*.dot'.format(i))]\n",
    "    _, comp_graph = cell_graph.generate_comp_graph(graph)#\n",
    "    comp_graphs.append(comp_graph)\n",
    "    #print(comp_graph, '\\n')\n",
    "\n",
    "# graph = [AGraph(g) for g in glob.glob('comp_graphs/tevc_2020/*.dot')]\n",
    "# _, comp_graphs = cell_graph.generate_comp_graph(graph)#"
   ]
  },
  {
   "cell_type": "code",
   "execution_count": 5,
   "metadata": {},
   "outputs": [],
   "source": [
    "# generate new chromosome\n",
    "# define primitive set\n",
    "pset = PrimitiveSet('cnn')\n",
    "\n",
    "# add cellular encoding program symbols\n",
    "pset.add_program_symbol(cell_graph.end)\n",
    "pset.add_program_symbol(cell_graph.seq)\n",
    "pset.add_program_symbol(cell_graph.cpo)\n",
    "pset.add_program_symbol(cell_graph.cpi)\n",
    "\n",
    "# add convolutional operations symbols\n",
    "conv_symbol = convolution.get_symbol()\n",
    "pset.add_cell_symbol(conv_symbol.conv3x3)\n",
    "#pset.add_cell_symbol(conv_symbol.sepconv3x3)\n",
    "#pset.add_cell_symbol(conv_symbol.dilconv3x3)\n",
    "#pset.add_cell_symbol(conv_symbol.dilconv5x5)\n",
    "#pset.add_cell_symbol(conv_symbol.sepconv5x5)\n",
    "#pset.add_cell_symbol(conv_symbol.dwconv3x3)\n",
    "#pset.add_cell_symbol(conv_symbol.maxpool3x3)\n",
    "pset.add_cell_symbol(conv_symbol.conv1x1)\n",
    "pset.add_cell_symbol(conv_symbol.conv1x3)\n",
    "pset.add_cell_symbol(conv_symbol.conv3x1)\n",
    "\n",
    "comp_graphs = []\n",
    "for i in range(3):\n",
    "    def gene_gen():\n",
    "        return Gene(pset, 2)\n",
    "    ch = Chromosome(gene_gen, 3)\n",
    "    graph, comp_graph = cell_graph.generate_comp_graph(ch)\n",
    "    comp_graphs.append(comp_graph)\n",
    "    cell_graph.save_graph(graph, 'comp_graphs/tevc_2020/{}'.format(i))\n",
    "    cell_graph.draw_graph(graph, 'comp_graphs/tevc_2020/{}'.format(i))\n",
    "\n",
    "# for i in range(10):\n",
    "#     def gene_gen():\n",
    "#         return Gene(pset, 2)\n",
    "#     ch = Chromosome(gene_gen, 1)\n",
    "#     graph, comp_graph = cell_graph.generate_comp_graph(ch)\n",
    "#     cell_graph.save_graph(graph, 'comp_graphs/ssci_2020/{}'.format(i))\n",
    "#     cell_graph.draw_graph(graph, 'comp_graphs/ssci_2020/{}'.format(i))\n",
    "\n",
    "# def gene_gen():\n",
    "#     return Gene(pset, 2)\n",
    "# ch = Chromosome(gene_gen, 3)\n",
    "# graph, comp_graphs = cell_graph.generate_comp_graph(ch)\n",
    "# cell_graph.save_graph(graph, 'comp_graphs/tevc_2020')\n",
    "# cell_graph.draw_graph(graph, 'comp_graphs/tevc_2020')"
   ]
  },
  {
   "cell_type": "code",
   "execution_count": 6,
   "metadata": {
    "colab": {},
    "colab_type": "code",
    "id": "0Vy6XZZ_dakd"
   },
   "outputs": [],
   "source": [
    "# import random\n",
    "#seed = 200\n",
    "# random.seed(seed)\n",
    "# np.random.seed(seed)\n",
    "# torch.manual_seed(seed)\n",
    "# torch.cuda.manual_seed(http://localhost:8888/notebooks/ResearchProjects/geppy_nn/evolution_search.ipynb#seed)\n",
    "# torch.cuda.manual_seed_all(seed)\n",
    "\n",
    "# # enable torch backends\n",
    "torch.backends.cudnn.enabled = True\n",
    "torch.backends.cudnn.benchmark = True\n",
    "#torch.backends.deterministic = True"
   ]
  },
  {
   "cell_type": "code",
   "execution_count": 7,
   "metadata": {
    "colab": {
     "base_uri": "https://localhost:8080/",
     "height": 34
    },
    "colab_type": "code",
    "executionInfo": {
     "elapsed": 1310,
     "status": "ok",
     "timestamp": 1578951397277,
     "user": {
      "displayName": "cliff akosa",
      "photoUrl": "",
      "userId": "08793119188384687776"
     },
     "user_tz": -540
    },
    "id": "2-n0NQqMOxIV",
    "outputId": "d83ce923-461f-42b2-8b8d-5cfd78a73afa"
   },
   "outputs": [
    {
     "data": {
      "text/plain": [
       "3.73637"
      ]
     },
     "execution_count": 7,
     "metadata": {},
     "output_type": "execute_result"
    }
   ],
   "source": [
    "conf = arch_config(comp_graphs=comp_graphs,\n",
    "                   channels=40,\n",
    "                   repeat_list=[4, 4, 4],\n",
    "                   classes=10)\n",
    "\n",
    "net = get_net(conf)\n",
    "count_parameters(net)"
   ]
  },
  {
   "cell_type": "code",
   "execution_count": 8,
   "metadata": {
    "colab": {
     "base_uri": "https://localhost:8080/",
     "height": 34
    },
    "colab_type": "code",
    "executionInfo": {
     "elapsed": 33535,
     "status": "ok",
     "timestamp": 1578951487726,
     "user": {
      "displayName": "cliff akosa",
      "photoUrl": "",
      "userId": "08793119188384687776"
     },
     "user_tz": -540
    },
    "id": "FUQrGFI6OxIc",
    "outputId": "f670e392-7967-43dc-e954-d8af0ce7cba4"
   },
   "outputs": [],
   "source": [
    "#size=32\n",
    "# cutout_frac = 0.25\n",
    "# p_cutout = 0.75\n",
    "# cutout_sz = round(size*cutout_frac)\n",
    "# cutout_tfm = cutout(n_holes=(2,2), length=(cutout_sz, cutout_sz), p=p_cutout)\n",
    "\n",
    "path = untar_data(URLs.CIFAR)\n",
    "# tfms = get_transforms() #xtra_tfms=[cutout()]\n",
    "# bs = 128\n",
    "# data = (ImageList.from_folder(path/'train')\n",
    "#         .split_by_rand_pct(valid_pct=0.1, seed=22) \n",
    "#         .label_from_folder()\n",
    "#         .transform(tfms)\n",
    "#         .databunch(bs=bs, num_workers=num_cpus())\n",
    "#         .normalize(cifar_stats))\n",
    "\n",
    "# dl = ImageDataLoaders(path)\n",
    "dblock = DataBlock(blocks=(ImageBlock(), CategoryBlock()),\n",
    "                   get_items=get_image_files,\n",
    "                   splitter=RandomSplitter(seed=42),\n",
    "                   get_y=parent_label,\n",
    "                   batch_tfms=[*aug_transforms(), Normalize.from_stats(*cifar_stats)])\n",
    "\n",
    "data = dblock.dataloaders(path/'train', bs=128)"
   ]
  },
  {
   "cell_type": "code",
   "execution_count": 9,
   "metadata": {
    "colab": {},
    "colab_type": "code",
    "id": "6VPHyBIYOxIh"
   },
   "outputs": [],
   "source": [
    "# loss_func = nn.CrossEntropyLoss() \n",
    "cutmix = CutMix()\n",
    "save = SaveModelCallback(monitor='accuracy', name='model')\n",
    "model_dir = '/home/cliff/ResearchProjects/geppy_nn/comp_graphs/tevc_2020'\n",
    "\n",
    "learn = Learner(data, net, metrics=[error_rate, accuracy], \n",
    "                cbs=[cutmix, save], model_dir=model_dir)\n",
    "#learn.to_fp16()   "
   ]
  },
  {
   "cell_type": "code",
   "execution_count": 10,
   "metadata": {
    "colab": {},
    "colab_type": "code",
    "id": "lck7gklvOxIm"
   },
   "outputs": [
    {
     "data": {
      "text/html": [],
      "text/plain": [
       "<IPython.core.display.HTML object>"
      ]
     },
     "metadata": {},
     "output_type": "display_data"
    },
    {
     "data": {
      "text/plain": [
       "SuggestedLRs(lr_min=0.0033113110810518267, lr_steep=0.002511886414140463)"
      ]
     },
     "execution_count": 10,
     "metadata": {},
     "output_type": "execute_result"
    },
    {
     "data": {
      "image/png": "[encoded data removed]",
      "text/plain": [
       "<Figure size 432x288 with 1 Axes>"
      ]
     },
     "metadata": {
      "needs_background": "light"
     },
     "output_type": "display_data"
    }
   ],
   "source": [
    "learn.lr_find()\n",
    "# learn.recorder.plot()"
   ]
  },
  {
   "cell_type": "code",
   "execution_count": null,
   "metadata": {
    "colab": {},
    "colab_type": "code",
    "id": "qdLZHQXUOxIr",
    "scrolled": true
   },
   "outputs": [
    {
     "data": {
      "text/html": [
       "\n",
       "    <div>\n",
       "        <style>\n",
       "            /* Turns off some styling */\n",
       "            progress {\n",
       "                /* gets rid of default border in Firefox and Opera. */\n",
       "                border: none;\n",
       "                /* Needs to be in here for Safari polyfill so background images work as expected. */\n",
       "                background-size: auto;\n",
       "            }\n",
       "            .progress-bar-interrupted, .progress-bar-interrupted::-webkit-progress-bar {\n",
       "                background: #F44336;\n",
       "            }\n",
       "        </style>\n",
       "      <progress value='41' class='' max='250' style='width:300px; height:20px; vertical-align: middle;'></progress>\n",
       "      16.40% [41/250 55:49<4:44:34]\n",
       "    </div>\n",
       "    \n",
       "<table border=\"1\" class=\"dataframe\">\n",
       "  <thead>\n",
       "    <tr style=\"text-align: left;\">\n",
       "      <th>epoch</th>\n",
       "      <th>train_loss</th>\n",
       "      <th>valid_loss</th>\n",
       "      <th>error_rate</th>\n",
       "      <th>accuracy</th>\n",
       "      <th>time</th>\n",
       "    </tr>\n",
       "  </thead>\n",
       "  <tbody>\n",
       "    <tr>\n",
       "      <td>0</td>\n",
       "      <td>1.922098</td>\n",
       "      <td>1.678994</td>\n",
       "      <td>0.615100</td>\n",
       "      <td>0.384900</td>\n",
       "      <td>01:52</td>\n",
       "    </tr>\n",
       "    <tr>\n",
       "      <td>1</td>\n",
       "      <td>1.821920</td>\n",
       "      <td>1.510680</td>\n",
       "      <td>0.539100</td>\n",
       "      <td>0.460900</td>\n",
       "      <td>01:20</td>\n",
       "    </tr>\n",
       "    <tr>\n",
       "      <td>2</td>\n",
       "      <td>1.720874</td>\n",
       "      <td>1.395401</td>\n",
       "      <td>0.498100</td>\n",
       "      <td>0.501900</td>\n",
       "      <td>01:20</td>\n",
       "    </tr>\n",
       "    <tr>\n",
       "      <td>3</td>\n",
       "      <td>1.692771</td>\n",
       "      <td>1.346841</td>\n",
       "      <td>0.475300</td>\n",
       "      <td>0.524700</td>\n",
       "      <td>01:21</td>\n",
       "    </tr>\n",
       "    <tr>\n",
       "      <td>4</td>\n",
       "      <td>1.634666</td>\n",
       "      <td>1.288059</td>\n",
       "      <td>0.450900</td>\n",
       "      <td>0.549100</td>\n",
       "      <td>01:21</td>\n",
       "    </tr>\n",
       "    <tr>\n",
       "      <td>5</td>\n",
       "      <td>1.584406</td>\n",
       "      <td>1.217381</td>\n",
       "      <td>0.431500</td>\n",
       "      <td>0.568500</td>\n",
       "      <td>01:20</td>\n",
       "    </tr>\n",
       "    <tr>\n",
       "      <td>6</td>\n",
       "      <td>1.575019</td>\n",
       "      <td>1.244090</td>\n",
       "      <td>0.436600</td>\n",
       "      <td>0.563400</td>\n",
       "      <td>01:20</td>\n",
       "    </tr>\n",
       "    <tr>\n",
       "      <td>7</td>\n",
       "      <td>1.549614</td>\n",
       "      <td>1.137571</td>\n",
       "      <td>0.397100</td>\n",
       "      <td>0.602900</td>\n",
       "      <td>01:21</td>\n",
       "    </tr>\n",
       "    <tr>\n",
       "      <td>8</td>\n",
       "      <td>1.481120</td>\n",
       "      <td>1.119291</td>\n",
       "      <td>0.393200</td>\n",
       "      <td>0.606800</td>\n",
       "      <td>01:20</td>\n",
       "    </tr>\n",
       "    <tr>\n",
       "      <td>9</td>\n",
       "      <td>1.515211</td>\n",
       "      <td>1.065781</td>\n",
       "      <td>0.371000</td>\n",
       "      <td>0.629000</td>\n",
       "      <td>01:19</td>\n",
       "    </tr>\n",
       "    <tr>\n",
       "      <td>10</td>\n",
       "      <td>1.459489</td>\n",
       "      <td>1.066158</td>\n",
       "      <td>0.369800</td>\n",
       "      <td>0.630200</td>\n",
       "      <td>01:19</td>\n",
       "    </tr>\n",
       "    <tr>\n",
       "      <td>11</td>\n",
       "      <td>1.436173</td>\n",
       "      <td>1.042352</td>\n",
       "      <td>0.363400</td>\n",
       "      <td>0.636600</td>\n",
       "      <td>01:20</td>\n",
       "    </tr>\n",
       "    <tr>\n",
       "      <td>12</td>\n",
       "      <td>1.442205</td>\n",
       "      <td>1.000816</td>\n",
       "      <td>0.343400</td>\n",
       "      <td>0.656600</td>\n",
       "      <td>01:19</td>\n",
       "    </tr>\n",
       "    <tr>\n",
       "      <td>13</td>\n",
       "      <td>1.392778</td>\n",
       "      <td>0.985043</td>\n",
       "      <td>0.341200</td>\n",
       "      <td>0.658800</td>\n",
       "      <td>01:19</td>\n",
       "    </tr>\n",
       "    <tr>\n",
       "      <td>14</td>\n",
       "      <td>1.362159</td>\n",
       "      <td>0.942106</td>\n",
       "      <td>0.324300</td>\n",
       "      <td>0.675700</td>\n",
       "      <td>01:19</td>\n",
       "    </tr>\n",
       "    <tr>\n",
       "      <td>15</td>\n",
       "      <td>1.345935</td>\n",
       "      <td>0.942441</td>\n",
       "      <td>0.324400</td>\n",
       "      <td>0.675600</td>\n",
       "      <td>01:19</td>\n",
       "    </tr>\n",
       "    <tr>\n",
       "      <td>16</td>\n",
       "      <td>1.330155</td>\n",
       "      <td>0.891587</td>\n",
       "      <td>0.297700</td>\n",
       "      <td>0.702300</td>\n",
       "      <td>01:19</td>\n",
       "    </tr>\n",
       "    <tr>\n",
       "      <td>17</td>\n",
       "      <td>1.350546</td>\n",
       "      <td>0.868321</td>\n",
       "      <td>0.293900</td>\n",
       "      <td>0.706100</td>\n",
       "      <td>01:19</td>\n",
       "    </tr>\n",
       "    <tr>\n",
       "      <td>18</td>\n",
       "      <td>1.292596</td>\n",
       "      <td>0.788171</td>\n",
       "      <td>0.262200</td>\n",
       "      <td>0.737800</td>\n",
       "      <td>01:20</td>\n",
       "    </tr>\n",
       "    <tr>\n",
       "      <td>19</td>\n",
       "      <td>1.277043</td>\n",
       "      <td>0.813895</td>\n",
       "      <td>0.275100</td>\n",
       "      <td>0.724900</td>\n",
       "      <td>01:19</td>\n",
       "    </tr>\n",
       "    <tr>\n",
       "      <td>20</td>\n",
       "      <td>1.276030</td>\n",
       "      <td>0.801210</td>\n",
       "      <td>0.272400</td>\n",
       "      <td>0.727600</td>\n",
       "      <td>01:19</td>\n",
       "    </tr>\n",
       "    <tr>\n",
       "      <td>21</td>\n",
       "      <td>1.237390</td>\n",
       "      <td>0.715077</td>\n",
       "      <td>0.238800</td>\n",
       "      <td>0.761200</td>\n",
       "      <td>01:19</td>\n",
       "    </tr>\n",
       "    <tr>\n",
       "      <td>22</td>\n",
       "      <td>1.247047</td>\n",
       "      <td>0.693180</td>\n",
       "      <td>0.225200</td>\n",
       "      <td>0.774800</td>\n",
       "      <td>01:20</td>\n",
       "    </tr>\n",
       "    <tr>\n",
       "      <td>23</td>\n",
       "      <td>1.249678</td>\n",
       "      <td>0.742052</td>\n",
       "      <td>0.238700</td>\n",
       "      <td>0.761300</td>\n",
       "      <td>01:20</td>\n",
       "    </tr>\n",
       "    <tr>\n",
       "      <td>24</td>\n",
       "      <td>1.217131</td>\n",
       "      <td>0.724388</td>\n",
       "      <td>0.233000</td>\n",
       "      <td>0.767000</td>\n",
       "      <td>01:20</td>\n",
       "    </tr>\n",
       "    <tr>\n",
       "      <td>25</td>\n",
       "      <td>1.196806</td>\n",
       "      <td>0.730697</td>\n",
       "      <td>0.237400</td>\n",
       "      <td>0.762600</td>\n",
       "      <td>01:20</td>\n",
       "    </tr>\n",
       "    <tr>\n",
       "      <td>26</td>\n",
       "      <td>1.120594</td>\n",
       "      <td>0.570821</td>\n",
       "      <td>0.188300</td>\n",
       "      <td>0.811700</td>\n",
       "      <td>01:23</td>\n",
       "    </tr>\n",
       "    <tr>\n",
       "      <td>27</td>\n",
       "      <td>1.203810</td>\n",
       "      <td>0.730887</td>\n",
       "      <td>0.240900</td>\n",
       "      <td>0.759100</td>\n",
       "      <td>01:21</td>\n",
       "    </tr>\n",
       "    <tr>\n",
       "      <td>28</td>\n",
       "      <td>1.145687</td>\n",
       "      <td>0.652398</td>\n",
       "      <td>0.213700</td>\n",
       "      <td>0.786300</td>\n",
       "      <td>01:21</td>\n",
       "    </tr>\n",
       "    <tr>\n",
       "      <td>29</td>\n",
       "      <td>1.118745</td>\n",
       "      <td>0.647477</td>\n",
       "      <td>0.200900</td>\n",
       "      <td>0.799100</td>\n",
       "      <td>01:20</td>\n",
       "    </tr>\n",
       "    <tr>\n",
       "      <td>30</td>\n",
       "      <td>1.111765</td>\n",
       "      <td>0.651160</td>\n",
       "      <td>0.208100</td>\n",
       "      <td>0.791900</td>\n",
       "      <td>01:21</td>\n",
       "    </tr>\n",
       "    <tr>\n",
       "      <td>31</td>\n",
       "      <td>1.101665</td>\n",
       "      <td>0.637088</td>\n",
       "      <td>0.209100</td>\n",
       "      <td>0.790900</td>\n",
       "      <td>01:20</td>\n",
       "    </tr>\n",
       "    <tr>\n",
       "      <td>32</td>\n",
       "      <td>1.068966</td>\n",
       "      <td>0.547049</td>\n",
       "      <td>0.180200</td>\n",
       "      <td>0.819800</td>\n",
       "      <td>01:20</td>\n",
       "    </tr>\n",
       "    <tr>\n",
       "      <td>33</td>\n",
       "      <td>1.030329</td>\n",
       "      <td>0.507925</td>\n",
       "      <td>0.166300</td>\n",
       "      <td>0.833700</td>\n",
       "      <td>01:22</td>\n",
       "    </tr>\n",
       "    <tr>\n",
       "      <td>34</td>\n",
       "      <td>1.092674</td>\n",
       "      <td>0.543187</td>\n",
       "      <td>0.153400</td>\n",
       "      <td>0.846600</td>\n",
       "      <td>01:23</td>\n",
       "    </tr>\n",
       "    <tr>\n",
       "      <td>35</td>\n",
       "      <td>1.010585</td>\n",
       "      <td>0.532578</td>\n",
       "      <td>0.167100</td>\n",
       "      <td>0.832900</td>\n",
       "      <td>01:22</td>\n",
       "    </tr>\n",
       "    <tr>\n",
       "      <td>36</td>\n",
       "      <td>1.044983</td>\n",
       "      <td>0.555226</td>\n",
       "      <td>0.169200</td>\n",
       "      <td>0.830800</td>\n",
       "      <td>01:22</td>\n",
       "    </tr>\n",
       "    <tr>\n",
       "      <td>37</td>\n",
       "      <td>1.078307</td>\n",
       "      <td>0.490988</td>\n",
       "      <td>0.144200</td>\n",
       "      <td>0.855800</td>\n",
       "      <td>01:24</td>\n",
       "    </tr>\n",
       "    <tr>\n",
       "      <td>38</td>\n",
       "      <td>1.002993</td>\n",
       "      <td>0.482455</td>\n",
       "      <td>0.155400</td>\n",
       "      <td>0.844600</td>\n",
       "      <td>01:21</td>\n",
       "    </tr>\n",
       "    <tr>\n",
       "      <td>39</td>\n",
       "      <td>1.068479</td>\n",
       "      <td>0.527979</td>\n",
       "      <td>0.162200</td>\n",
       "      <td>0.837800</td>\n",
       "      <td>01:23</td>\n",
       "    </tr>\n",
       "    <tr>\n",
       "      <td>40</td>\n",
       "      <td>0.979964</td>\n",
       "      <td>0.519756</td>\n",
       "      <td>0.162900</td>\n",
       "      <td>0.837100</td>\n",
       "      <td>01:21</td>\n",
       "    </tr>\n",
       "  </tbody>\n",
       "</table><p>\n",
       "\n",
       "    <div>\n",
       "        <style>\n",
       "            /* Turns off some styling */\n",
       "            progress {\n",
       "                /* gets rid of default border in Firefox and Opera. */\n",
       "                border: none;\n",
       "                /* Needs to be in here for Safari polyfill so background images work as expected. */\n",
       "                background-size: auto;\n",
       "            }\n",
       "            .progress-bar-interrupted, .progress-bar-interrupted::-webkit-progress-bar {\n",
       "                background: #F44336;\n",
       "            }\n",
       "        </style>\n",
       "      <progress value='48' class='' max='312' style='width:300px; height:20px; vertical-align: middle;'></progress>\n",
       "      15.38% [48/312 00:12<01:06 1.0076]\n",
       "    </div>\n",
       "    "
      ],
      "text/plain": [
       "<IPython.core.display.HTML object>"
      ]
     },
     "metadata": {},
     "output_type": "display_data"
    },
    {
     "name": "stdout",
     "output_type": "stream",
     "text": [
      "Better model found at epoch 0 with accuracy value: 0.3849000036716461.\n",
      "Better model found at epoch 1 with accuracy value: 0.4609000086784363.\n",
      "Better model found at epoch 2 with accuracy value: 0.5019000172615051.\n",
      "Better model found at epoch 3 with accuracy value: 0.5246999859809875.\n",
      "Better model found at epoch 4 with accuracy value: 0.5490999817848206.\n",
      "Better model found at epoch 5 with accuracy value: 0.5684999823570251.\n",
      "Better model found at epoch 7 with accuracy value: 0.6029000282287598.\n",
      "Better model found at epoch 8 with accuracy value: 0.6068000197410583.\n",
      "Better model found at epoch 9 with accuracy value: 0.6290000081062317.\n",
      "Better model found at epoch 10 with accuracy value: 0.6302000284194946.\n",
      "Better model found at epoch 11 with accuracy value: 0.6366000175476074.\n",
      "Better model found at epoch 12 with accuracy value: 0.6565999984741211.\n",
      "Better model found at epoch 13 with accuracy value: 0.6588000059127808.\n",
      "Better model found at epoch 14 with accuracy value: 0.6757000088691711.\n",
      "Better model found at epoch 16 with accuracy value: 0.7023000121116638.\n",
      "Better model found at epoch 17 with accuracy value: 0.7060999870300293.\n",
      "Better model found at epoch 18 with accuracy value: 0.7378000020980835.\n",
      "Better model found at epoch 21 with accuracy value: 0.7612000107765198.\n",
      "Better model found at epoch 22 with accuracy value: 0.7748000025749207.\n",
      "Better model found at epoch 26 with accuracy value: 0.8116999864578247.\n",
      "Better model found at epoch 32 with accuracy value: 0.8198000192642212.\n",
      "Better model found at epoch 33 with accuracy value: 0.8337000012397766.\n",
      "Better model found at epoch 34 with accuracy value: 0.8465999960899353.\n",
      "Better model found at epoch 37 with accuracy value: 0.8557999730110168.\n"
     ]
    }
   ],
   "source": [
    "# save = SaveModelCallback(learn, monitor='accuracy', name='model_0')\n",
    "#learn.fit_flat_cos(150, 3e-3, wd=1e-4)\n",
    "learn.fit_one_cycle(250, 1e-3, wd=4e-4) "
   ]
  },
  {
   "cell_type": "code",
   "execution_count": null,
   "metadata": {
    "colab": {},
    "colab_type": "code",
    "id": "Pv1Ys1fJOxI0"
   },
   "outputs": [],
   "source": [
    "####################### Testing ###########################"
   ]
  },
  {
   "cell_type": "code",
   "execution_count": null,
   "metadata": {
    "colab": {},
    "colab_type": "code",
    "id": "zSTp3jiyOxI7",
    "scrolled": true
   },
   "outputs": [],
   "source": [
    "# graph_dir = 'comp_graphs/new/*.dot' #'/content/mnt/My Drive/Colab Notebooks/ResearchProject/comp_graphs/experiment_1/best/indv_1/*.dot'\n",
    "# graph = [AGraph(g) for g in glob.glob(graph_dir)]\n",
    "# _, comp_graph = cell_graph.generate_comp_graph(graph)\n",
    "\n",
    "# comp_graphs = []\n",
    "# for i in range(3):\n",
    "#     graph = [AGraph(g) for g in glob.glob('comp_graphs/new/{}/*.dot'.format(i))]\n",
    "#     _, comp_graph = cell_graph.generate_comp_graph(graph)#\n",
    "#     comp_graphs.append(comp_graph)\n",
    "\n",
    "graph = [AGraph(g) for g in glob.glob('comp_graphs/new/*.dot')]\n",
    "_, comp_graph = cell_graph.generate_comp_graph(graph)#"
   ]
  },
  {
   "cell_type": "code",
   "execution_count": null,
   "metadata": {
    "colab": {
     "base_uri": "https://localhost:8080/",
     "height": 34
    },
    "colab_type": "code",
    "executionInfo": {
     "elapsed": 860,
     "status": "ok",
     "timestamp": 1578951687810,
     "user": {
      "displayName": "cliff akosa",
      "photoUrl": "",
      "userId": "08793119188384687776"
     },
     "user_tz": -540
    },
    "id": "3XCZ37WkOxI_",
    "outputId": "9dfb177e-eb0b-445d-caad-69aa23d2ed6b"
   },
   "outputs": [],
   "source": [
    "conf = arch_config(comp_graphs=comp_graphs,\n",
    "                   #depth_coeff=1.0,\n",
    "                   #width_coeff=1.0,\n",
    "                   channels=40,\n",
    "                   repeat_list=[3, 2, 3],\n",
    "                   classes=10)\n",
    "\n",
    "net = get_net(conf)\n",
    "count_parameters(net)"
   ]
  },
  {
   "cell_type": "code",
   "execution_count": null,
   "metadata": {
    "colab": {},
    "colab_type": "code",
    "id": "GQM1HF35OxJE",
    "scrolled": true
   },
   "outputs": [],
   "source": [
    "tfms = get_transforms(do_flip=False)\n",
    "path = untar_data(URLs.CIFAR)\n",
    "bs = 256\n",
    "\n",
    "data = (ImageList.from_folder(path)\n",
    "        .split_by_folder(train='train', valid='test')\n",
    "        .label_from_folder()\n",
    "        .transform(tfms, size=32)\n",
    "        .databunch(bs=bs, num_workers=num_cpus())\n",
    "        .normalize(cifar_stats))"
   ]
  },
  {
   "cell_type": "code",
   "execution_count": null,
   "metadata": {
    "colab": {},
    "colab_type": "code",
    "id": "nS-jVbg1OxJI"
   },
   "outputs": [],
   "source": [
    "model_dir = '/home/cliff/ResearchProjects/geppy_nn/comp_graphs/new' #'/content/mnt/My Drive/Colab Notebooks/ResearchProject/models/'\n",
    "model = Learner(data, net, metrics=[accuracy, error_rate]).load(model_dir+'/model_1')\n",
    "model.validate()"
   ]
  },
  {
   "cell_type": "code",
   "execution_count": null,
   "metadata": {
    "colab": {
     "base_uri": "https://localhost:8080/",
     "height": 34
    },
    "colab_type": "code",
    "executionInfo": {
     "elapsed": 7482,
     "status": "ok",
     "timestamp": 1578951705123,
     "user": {
      "displayName": "cliff akosa",
      "photoUrl": "",
      "userId": "08793119188384687776"
     },
     "user_tz": -540
    },
    "id": "l7NjwVsQOxJO",
    "outputId": "0d96025f-bd2c-4c03-d33a-cf2cb17ac896"
   },
   "outputs": [],
   "source": []
  },
  {
   "cell_type": "code",
   "execution_count": null,
   "metadata": {
    "colab": {},
    "colab_type": "code",
    "id": "kAfjfhBVOxJU",
    "scrolled": true
   },
   "outputs": [],
   "source": [
    "preds,y,losses = model.get_preds(ds_type=DatasetType.Valid, with_loss=True)\n",
    "preds[:5]"
   ]
  },
  {
   "cell_type": "code",
   "execution_count": null,
   "metadata": {
    "colab": {},
    "colab_type": "code",
    "id": "1MvzY-ESOxJY"
   },
   "outputs": [],
   "source": []
  },
  {
   "cell_type": "code",
   "execution_count": null,
   "metadata": {
    "colab": {},
    "colab_type": "code",
    "id": "I8paJKf7OxJb"
   },
   "outputs": [],
   "source": []
  },
  {
   "cell_type": "code",
   "execution_count": null,
   "metadata": {
    "colab": {},
    "colab_type": "code",
    "id": "aqiu-ZVZOxJg"
   },
   "outputs": [],
   "source": []
  },
  {
   "cell_type": "code",
   "execution_count": null,
   "metadata": {
    "colab": {},
    "colab_type": "code",
    "id": "cJUyPLoMOxJk"
   },
   "outputs": [],
   "source": []
  },
  {
   "cell_type": "code",
   "execution_count": null,
   "metadata": {
    "colab": {},
    "colab_type": "code",
    "id": "GBmkvi7-OxJp"
   },
   "outputs": [],
   "source": []
  },
  {
   "cell_type": "code",
   "execution_count": null,
   "metadata": {
    "colab": {},
    "colab_type": "code",
    "id": "kQuWTD4mOxJu"
   },
   "outputs": [],
   "source": []
  },
  {
   "cell_type": "code",
   "execution_count": null,
   "metadata": {},
   "outputs": [],
   "source": []
  }
 ],
 "metadata": {
  "accelerator": "GPU",
  "colab": {
   "collapsed_sections": [],
   "name": "evolution_search.ipynb",
   "provenance": [
    {
     "file_id": "1sFVrI5kmKHCFVSbnea50sJnWOiTrRt3a",
     "timestamp": 1577364210955
    }
   ]
  },
  "kernelspec": {
   "display_name": "Python 3",
   "language": "python",
   "name": "python3"
  },
  "language_info": {
   "codemirror_mode": {
    "name": "ipython",
    "version": 3
   },
   "file_extension": ".py",
   "mimetype": "text/x-python",
   "name": "python",
   "nbconvert_exporter": "python",
   "pygments_lexer": "ipython3",
   "version": "3.8.5"
  }
 },
 "nbformat": 4,
 "nbformat_minor": 1
}
