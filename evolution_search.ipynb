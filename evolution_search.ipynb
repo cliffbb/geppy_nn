{
 "cells": [
  {
   "cell_type": "code",
   "execution_count": 1,
   "metadata": {},
   "outputs": [
    {
     "name": "stdout",
     "output_type": "stream",
     "text": [
      "Great! Good to go!\n"
     ]
    }
   ],
   "source": [
    "from fastai.vision import *\n",
    "from fastai.distributed import *\n",
    "from fastai.metrics import error_rate\n",
    "from fastai.callbacks import SaveModelCallback\n",
    "\n",
    "if torch.cuda.is_available():\n",
    "  print(\"Great! Good to go!\")\n",
    "else:\n",
    "  print('CUDA is not up!')"
   ]
  },
  {
   "cell_type": "code",
   "execution_count": 2,
   "metadata": {},
   "outputs": [],
   "source": [
    "from gepcore.utils import cell_graph\n",
    "from gepnet.model_v2 import get_gepnet, arch_config\n",
    "from gepnet.utils import count_parameters\n",
    "torch.backends.cudnn.benchmark = True"
   ]
  },
  {
   "cell_type": "code",
   "execution_count": 3,
   "metadata": {},
   "outputs": [],
   "source": [
    "from pygraphviz import AGraph\n",
    "import glob"
   ]
  },
  {
   "cell_type": "code",
   "execution_count": 4,
   "metadata": {},
   "outputs": [],
   "source": [
    "graph = [AGraph(g) for g in glob.glob('comp_graphs/experiment_6/best/indv_0/*.dot')]\n",
    "_, comp_graph = cell_graph.generate_comp_graph(graph)"
   ]
  },
  {
   "cell_type": "code",
   "execution_count": 5,
   "metadata": {},
   "outputs": [],
   "source": [
    "import random\n",
    "seed = 100\n",
    "random.seed(seed)\n",
    "np.random.seed(seed)\n",
    "torch.manual_seed(seed)\n",
    "torch.cuda.manual_seed(seed)\n",
    "torch.cuda.manual_seed_all(seed)\n",
    "\n",
    "# enable torch backends\n",
    "torch.backends.cudnn.enabled = True\n",
    "torch.backends.cudnn.benchmark = True\n",
    "#torch.backends.deterministic = True"
   ]
  },
  {
   "cell_type": "code",
   "execution_count": 7,
   "metadata": {},
   "outputs": [
    {
     "data": {
      "text/plain": [
       "3.77221"
      ]
     },
     "execution_count": 7,
     "metadata": {},
     "output_type": "execute_result"
    }
   ],
   "source": [
    "conf = arch_config(comp_graph=comp_graph,\n",
    "                   depth_coeff=1.0,\n",
    "                   width_coeff=1.0,\n",
    "                   channels=36,\n",
    "                   repeat_list=[5, 4, 2],\n",
    "                   classes=10)\n",
    "\n",
    "net = get_gepnet(conf)\n",
    "count_parameters(net)"
   ]
  },
  {
   "cell_type": "code",
   "execution_count": null,
   "metadata": {},
   "outputs": [],
   "source": [
    "path = untar_data(URLs.CIFAR)\n",
    "tfms = get_transforms(xtra_tfms=[cutout()]) \n",
    "bs = 128\n",
    "data = (ImageList.from_folder(path/'train')\n",
    "        .split_by_rand_pct(valid_pct=0.1, seed=seed) \n",
    "        .label_from_folder()\n",
    "        .transform(tfms, size=32)\n",
    "        .databunch(bs=bs, num_workers=num_cpus())\n",
    "        .normalize(cifar_stats))"
   ]
  },
  {
   "cell_type": "code",
   "execution_count": null,
   "metadata": {},
   "outputs": [],
   "source": [
    "learn = Learner(data, net, metrics=[error_rate, accuracy], \n",
    "        model_dir='/home/cliff/ResearchProjects/models/evolution_search/').load('experiment_6_model_0').mixup()\n",
    "learn.to_fp16()   "
   ]
  },
  {
   "cell_type": "code",
   "execution_count": null,
   "metadata": {},
   "outputs": [],
   "source": [
    "learn.lr_find(wd=4e-4,end_lr=100)\n",
    "\n",
    "learn.recorder.plot()"
   ]
  },
  {
   "cell_type": "code",
   "execution_count": null,
   "metadata": {
    "scrolled": true
   },
   "outputs": [],
   "source": [
    "cb = SaveModelCallback(learn, every='improvement', monitor='accuracy', name='experiment_6_model_0')\n",
    "learn.fit_one_cycle(1000, 1e-3, wd=0.0004, callbacks=[cb]) "
   ]
  },
  {
   "cell_type": "code",
   "execution_count": null,
   "metadata": {},
   "outputs": [],
   "source": [
    "############# Testing #############"
   ]
  },
  {
   "cell_type": "code",
   "execution_count": null,
   "metadata": {
    "scrolled": true
   },
   "outputs": [],
   "source": [
    "graph = [AGraph(g) for g in glob.glob('comp_graphs/experiment_1/best/indv_0/*.dot')]\n",
    "_, comp_graph = cell_graph.generate_comp_graph(graph)"
   ]
  },
  {
   "cell_type": "code",
   "execution_count": null,
   "metadata": {},
   "outputs": [],
   "source": [
    "conf = arch_config(comp_graph=comp_graph,\n",
    "                   depth_coeff=1.0,\n",
    "                   width_coeff=1.0,\n",
    "                   channels=40,\n",
    "                   repeat_list=[6, 6, 6, 6],\n",
    "                   classes=10)\n",
    "\n",
    "net = get_gepnet(conf)\n",
    "count_parameters(net)"
   ]
  },
  {
   "cell_type": "code",
   "execution_count": null,
   "metadata": {
    "scrolled": true
   },
   "outputs": [],
   "source": [
    "tfms = get_transforms(do_flip=False)\n",
    "path = untar_data(URLs.CIFAR)\n",
    "bs = 256\n",
    "\n",
    "data = (ImageList.from_folder(path)\n",
    "        .split_by_folder(train='train', valid='test')\n",
    "        .label_from_folder()\n",
    "        .transform(tfms, size=32)\n",
    "        .databunch(bs=bs, num_workers=num_cpus())\n",
    "        .normalize(cifar_stats))"
   ]
  },
  {
   "cell_type": "code",
   "execution_count": null,
   "metadata": {},
   "outputs": [],
   "source": [
    "model = Learner(data, net, metrics=[accuracy, error_rate]).load('experiment_1_model_1')\n",
    "#model"
   ]
  },
  {
   "cell_type": "code",
   "execution_count": null,
   "metadata": {},
   "outputs": [],
   "source": [
    "model.validate()"
   ]
  },
  {
   "cell_type": "code",
   "execution_count": null,
   "metadata": {
    "scrolled": true
   },
   "outputs": [],
   "source": [
    "preds,y,losses = model.get_preds(ds_type=DatasetType.Valid, with_loss=True)\n",
    "preds[:5]"
   ]
  },
  {
   "cell_type": "code",
   "execution_count": null,
   "metadata": {},
   "outputs": [],
   "source": []
  },
  {
   "cell_type": "code",
   "execution_count": null,
   "metadata": {},
   "outputs": [],
   "source": []
  },
  {
   "cell_type": "code",
   "execution_count": null,
   "metadata": {},
   "outputs": [],
   "source": []
  },
  {
   "cell_type": "code",
   "execution_count": null,
   "metadata": {},
   "outputs": [],
   "source": []
  },
  {
   "cell_type": "code",
   "execution_count": null,
   "metadata": {},
   "outputs": [],
   "source": []
  },
  {
   "cell_type": "code",
   "execution_count": null,
   "metadata": {},
   "outputs": [],
   "source": []
  }
 ],
 "metadata": {
  "kernelspec": {
   "display_name": "Python 3",
   "language": "python",
   "name": "python3"
  },
  "language_info": {
   "codemirror_mode": {
    "name": "ipython",
    "version": 3
   },
   "file_extension": ".py",
   "mimetype": "text/x-python",
   "name": "python",
   "nbconvert_exporter": "python",
   "pygments_lexer": "ipython3",
   "version": "3.6.9"
  }
 },
 "nbformat": 4,
 "nbformat_minor": 2
}
